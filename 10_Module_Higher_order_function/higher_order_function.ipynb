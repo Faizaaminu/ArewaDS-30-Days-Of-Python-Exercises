{
 "cells": [
  {
   "cell_type": "markdown",
   "metadata": {},
   "source": [
    "# Module 10\n",
    "# Higher Order Function\n",
    "## Exercises : level 1\n"
   ]
  },
  {
   "cell_type": "markdown",
   "metadata": {},
   "source": [
    "1. Explain the difference between map, filter, and reduce."
   ]
  },
  {
   "cell_type": "markdown",
   "metadata": {},
   "source": [
    "- map applies the function to each element of an array field.\n",
    "- filter keeps elements of array fields that match a specified condition.\n",
    "- reduce combines an array into a single value."
   ]
  },
  {
   "cell_type": "markdown",
   "metadata": {},
   "source": [
    "2. Explain the difference between higher order function, closure and decorator"
   ]
  },
  {
   "cell_type": "markdown",
   "metadata": {},
   "source": [
    "### Higher Order Functions\n",
    "- A function can take one or more functions as parameters\n",
    "- A function can be returned as a result of another function\n",
    "- A function can be modified.\n",
    " ### Closure\n",
    "- A closure is a function that remembers the variables from its enclosing scope, even when the scope is no longer active.\n",
    "  \n",
    "### Decorators\n",
    "- A decorator is a higher-order function, which means that it accepts other functions as arguments and returns a new, enhanced function, method, or class."
   ]
  },
  {
   "cell_type": "markdown",
   "metadata": {},
   "source": [
    "3. Define a call function before map, filter or reduce, see examples\n",
    "   \n",
    "* Using the Function with map()\n",
    "The map() function applies the square() function to every item in an iterable (like a list)\n",
    "* Using the Function with reduce()\n",
    "The reduce() function from the functools module reduces the iterable by applying a function cumulatively. For example, we can compute the product of all numbers:\n",
    "* Using the Function with filter()\n",
    "The filter() function filters items based on a condition. "
   ]
  },
  {
   "cell_type": "markdown",
   "metadata": {},
   "source": [
    "4. Use for loop to print each country in the countries list."
   ]
  },
  {
   "cell_type": "code",
   "execution_count": 1,
   "metadata": {},
   "outputs": [
    {
     "name": "stdout",
     "output_type": "stream",
     "text": [
      "Estonia\n",
      "Finland\n",
      "Sweden\n",
      "Denmark\n",
      "Norway\n",
      "Iceland\n"
     ]
    }
   ],
   "source": [
    "countries = ['Estonia', 'Finland', 'Sweden', 'Denmark', 'Norway', 'Iceland']\n",
    "for i  in countries:\n",
    "    print(i)"
   ]
  },
  {
   "cell_type": "markdown",
   "metadata": {},
   "source": [
    "5. Use for to print each name in the names list."
   ]
  },
  {
   "cell_type": "code",
   "execution_count": 2,
   "metadata": {},
   "outputs": [
    {
     "name": "stdout",
     "output_type": "stream",
     "text": [
      "Asabeneh\n",
      "Lidiya\n",
      "Ermias\n",
      "Abraham\n"
     ]
    }
   ],
   "source": [
    "names = ['Asabeneh', 'Lidiya', 'Ermias', 'Abraham']\n",
    "for i in names:\n",
    "    print(i)"
   ]
  },
  {
   "cell_type": "markdown",
   "metadata": {},
   "source": [
    "6. Use for to print each number in the numbers list.\n"
   ]
  },
  {
   "cell_type": "code",
   "execution_count": 3,
   "metadata": {},
   "outputs": [
    {
     "name": "stdout",
     "output_type": "stream",
     "text": [
      "1\n",
      "2\n",
      "3\n",
      "4\n",
      "5\n",
      "6\n",
      "7\n",
      "8\n",
      "9\n",
      "10\n"
     ]
    }
   ],
   "source": [
    "numbers = [1, 2, 3, 4, 5, 6, 7, 8, 9, 10]\n",
    "for i in numbers:\n",
    "    print(i)"
   ]
  },
  {
   "cell_type": "markdown",
   "metadata": {},
   "source": [
    "# Exercises: Level 2"
   ]
  },
  {
   "cell_type": "markdown",
   "metadata": {},
   "source": [
    "1. Use map to create a new list by changing each country to uppercase in the countries list"
   ]
  },
  {
   "cell_type": "code",
   "execution_count": 6,
   "metadata": {},
   "outputs": [
    {
     "name": "stdout",
     "output_type": "stream",
     "text": [
      "['ESTONIA', 'FINLAND', 'SWEDEN', 'DENMARK', 'NORWAY', 'ICELAND']\n"
     ]
    }
   ],
   "source": [
    "countries = ['Estonia', 'Finland', 'Sweden', 'Denmark', 'Norway', 'Iceland']\n",
    "def upper_case(lst):\n",
    "    return lst.upper()\n",
    "\n",
    "mapped_countries=map(upper_case ,countries)\n",
    "print(list(mapped_countries))"
   ]
  },
  {
   "cell_type": "markdown",
   "metadata": {},
   "source": [
    "2. Use map to create a new list by changing each number to its square in the numbers list"
   ]
  },
  {
   "cell_type": "code",
   "execution_count": 7,
   "metadata": {},
   "outputs": [
    {
     "name": "stdout",
     "output_type": "stream",
     "text": [
      "[1, 4, 9, 16, 25, 36, 49, 64, 81, 100]\n"
     ]
    }
   ],
   "source": [
    "squared_numbers = list(map(lambda x: x**2, numbers))\n",
    "print(squared_numbers)"
   ]
  },
  {
   "cell_type": "markdown",
   "metadata": {},
   "source": [
    "3. Use map to change each name to uppercase in the names list"
   ]
  },
  {
   "cell_type": "code",
   "execution_count": 10,
   "metadata": {},
   "outputs": [
    {
     "name": "stdout",
     "output_type": "stream",
     "text": [
      "['ASABENEH', 'LIDIYA', 'ERMIAS', 'ABRAHAM']\n"
     ]
    }
   ],
   "source": [
    "names = ['Asabeneh', 'Lidiya', 'Ermias', 'Abraham']\n",
    "def upper_case(lst):\n",
    "    return lst.upper()\n",
    "\n",
    "mapped_names=map(upper_case ,names)\n",
    "print(list(mapped_names))"
   ]
  },
  {
   "cell_type": "markdown",
   "metadata": {},
   "source": [
    "5. Use filter to filter out countries having exactly six characters."
   ]
  },
  {
   "cell_type": "code",
   "execution_count": 6,
   "metadata": {},
   "outputs": [
    {
     "name": "stdout",
     "output_type": "stream",
     "text": [
      "['Sweden', 'Norway']\n"
     ]
    }
   ],
   "source": [
    "countries = ['Estonia', 'Finland', 'Sweden', 'Denmark', 'Norway', 'Iceland'] # iterable\n",
    "six_char_countries = list(filter(lambda country : len(country) == 6, countries))\n",
    "print((six_char_countries))"
   ]
  },
  {
   "cell_type": "markdown",
   "metadata": {},
   "source": [
    "6. Use filter to filter out countries containing six letters and more in the country list."
   ]
  },
  {
   "cell_type": "code",
   "execution_count": 19,
   "metadata": {},
   "outputs": [
    {
     "name": "stdout",
     "output_type": "stream",
     "text": [
      "['Estonia', 'Finland', 'Sweden', 'Denmark', 'Norway', 'Iceland']\n"
     ]
    }
   ],
   "source": [
    "# Filter  countries having exactly six character\n",
    "countries = ['Estonia', 'Finland', 'Sweden', 'Denmark', 'Norway', 'Iceland'] # iterable\n",
    "def six_letters_countries(countries):\n",
    "    if len(countries) >= 6:\n",
    "        return True\n",
    "    return False\n",
    "\n",
    "six_letters_countries= filter (six_letters_countries, countries)\n",
    "print(list(six_letters_countries))       "
   ]
  },
  {
   "cell_type": "markdown",
   "metadata": {},
   "source": [
    "7. Use filter to filter out countries starting with an 'E'"
   ]
  },
  {
   "cell_type": "code",
   "execution_count": 23,
   "metadata": {},
   "outputs": [
    {
     "name": "stdout",
     "output_type": "stream",
     "text": [
      "['Estonia']\n"
     ]
    }
   ],
   "source": [
    "def filter_e_countries(country):\n",
    "    return country.startswith('E')\n",
    "\n",
    "filtered_countries = list(filter(filter_e_countries, countries))\n",
    "print(filtered_countries)"
   ]
  },
  {
   "cell_type": "markdown",
   "metadata": {},
   "source": [
    "8. Chain two or more list iterators (eg. arr.map(callback).filter(callback).reduce(callback))"
   ]
  },
  {
   "cell_type": "code",
   "execution_count": 8,
   "metadata": {},
   "outputs": [
    {
     "name": "stdout",
     "output_type": "stream",
     "text": [
      "ESTONIA, FINLAND, DENMARK, ICELAND\n"
     ]
    }
   ],
   "source": [
    "from functools import reduce\n",
    "\n",
    "# Filter countries with names longer than 6 characters\n",
    "filtered_countries = filter(lambda x: len(x) > 6, countries)\n",
    "\n",
    "# Map the filtered countries to uppercase\n",
    "mapped_countries = map(lambda x: x.upper(), filtered_countries)\n",
    "\n",
    "# Reduce the mapped countries to a single string concatenated with commas\n",
    "reduced_countries = reduce(lambda x, y: x + ', ' + y, mapped_countries)\n",
    "\n",
    "print(reduced_countries)"
   ]
  },
  {
   "cell_type": "code",
   "execution_count": 16,
   "metadata": {},
   "outputs": [
    {
     "name": "stdout",
     "output_type": "stream",
     "text": [
      "10\n"
     ]
    }
   ],
   "source": [
    "e\n",
    "numbers = [1, 2, 3, 4]\n",
    "total = reduce(lambda x, y: x + y, numbers)\n",
    "print(total)  # Output: 10\n"
   ]
  },
  {
   "cell_type": "markdown",
   "metadata": {},
   "source": [
    "9. Declare a function called get_string_lists which takes a list as a parameter and then returns a list containing only string items."
   ]
  },
  {
   "cell_type": "code",
   "execution_count": 26,
   "metadata": {},
   "outputs": [],
   "source": [
    "def get_string_lists(lst):\n",
    "    return [item for item in lst if isinstance(item, str)]"
   ]
  },
  {
   "cell_type": "code",
   "execution_count": 27,
   "metadata": {},
   "outputs": [],
   "source": [
    "def get_string_lists(lst):\n",
    "    return [countries for countries in lst if isinstance(countries, str)]"
   ]
  },
  {
   "cell_type": "markdown",
   "metadata": {},
   "source": [
    "10. Use reduce to sum all the numbers in the numbers list."
   ]
  },
  {
   "cell_type": "code",
   "execution_count": 32,
   "metadata": {},
   "outputs": [
    {
     "name": "stdout",
     "output_type": "stream",
     "text": [
      "55\n"
     ]
    }
   ],
   "source": [
    "\n",
    "\n",
    "total_sum = reduce(lambda x, y: x + y, numbers)\n",
    "print(total_sum)"
   ]
  },
  {
   "cell_type": "markdown",
   "metadata": {},
   "source": [
    "11. Use reduce to concatenate all the countries and to produce this sentence: Estonia, Finland, Sweden, Denmark, Norway, and Iceland are north European countries"
   ]
  },
  {
   "cell_type": "code",
   "execution_count": 9,
   "metadata": {},
   "outputs": [
    {
     "name": "stdout",
     "output_type": "stream",
     "text": [
      "Estonia, Finland, Sweden, Denmark, Norway, and Iceland are north European countries.\n"
     ]
    }
   ],
   "source": [
    "\n",
    "countries = [\"Estonia\", \"Finland\", \"Sweden\", \"Denmark\", \"Norway\", \"Iceland\"]\n",
    "\n",
    "# Function to concatenate countries\n",
    "def concatenate(acc, country):\n",
    "    if acc == \"\":\n",
    "        return country\n",
    "    elif countries.index(country) == len(countries) - 1:\n",
    "        return acc + \", and \" + country\n",
    "    else:\n",
    "        return acc + \", \" + country\n",
    "\n",
    "# Use reduce to concatenate\n",
    "result = reduce(concatenate, countries, \"\")\n",
    "sentence = result + \" are north European countries.\"\n",
    "\n",
    "# Output\n",
    "print(sentence)\n"
   ]
  },
  {
   "cell_type": "markdown",
   "metadata": {},
   "source": [
    "   1. Declare a function called categorize_countries that returns a list of countries with some common pattern (you can find the[countries.](data/countries_data.json) list in this repository as countries.js(eg 'land', 'ia', 'island', 'stan'))."
   ]
  },
  {
   "cell_type": "code",
   "execution_count": 10,
   "metadata": {},
   "outputs": [],
   "source": [
    "import data"
   ]
  },
  {
   "cell_type": "code",
   "execution_count": 14,
   "metadata": {},
   "outputs": [
    {
     "name": "stdout",
     "output_type": "stream",
     "text": [
      "Countries containing 'land': ['Finland', 'Iceland']\n",
      "Countries containing 'ia': ['Estonia']\n",
      "Countries containing 'island': []\n",
      "Countries containing 'stan': []\n"
     ]
    }
   ],
   "source": [
    "import data\n",
    "def categorize_countries(countries, pattern):\n",
    "    \"\"\"\n",
    "    Categorizes countries based on a common pattern.\n",
    "    \n",
    "    Args:\n",
    "    - countries (list): List of country names.\n",
    "    - pattern (str): Substring to look for in the country names.\n",
    "\n",
    "    Returns:\n",
    "    - list: Countries matching the given pattern.\n",
    "    \"\"\"\n",
    "    return [country for country in countries if pattern in country]\n",
    "\n",
    "# Categorize countries with specific patterns\n",
    "land_countries = categorize_countries(countries, \"land\")\n",
    "ia_countries = categorize_countries(countries, \"ia\")\n",
    "island_countries = categorize_countries(countries, \"island\")\n",
    "stan_countries = categorize_countries(countries, \"stan\")\n",
    "\n",
    "# Display results\n",
    "print(\"Countries containing 'land':\", land_countries)\n",
    "print(\"Countries containing 'ia':\", ia_countries)\n",
    "print(\"Countries containing 'island':\", island_countries)\n",
    "print(\"Countries containing 'stan':\", stan_countries)\n"
   ]
  },
  {
   "cell_type": "markdown",
   "metadata": {},
   "source": [
    "12. create a function returning a dictionary, where keys stand for starting letters of countries and values are the number of country names starting with that letter."
   ]
  },
  {
   "cell_type": "code",
   "execution_count": null,
   "metadata": {},
   "outputs": [],
   "source": []
  }
 ],
 "metadata": {
  "kernelspec": {
   "display_name": "Python 3",
   "language": "python",
   "name": "python3"
  },
  "language_info": {
   "codemirror_mode": {
    "name": "ipython",
    "version": 3
   },
   "file_extension": ".py",
   "mimetype": "text/x-python",
   "name": "python",
   "nbconvert_exporter": "python",
   "pygments_lexer": "ipython3",
   "version": "3.13.1"
  }
 },
 "nbformat": 4,
 "nbformat_minor": 2
}
