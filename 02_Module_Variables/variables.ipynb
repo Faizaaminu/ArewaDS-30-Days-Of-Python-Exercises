{
 "cells": [
  {
   "cell_type": "markdown",
   "metadata": {},
   "source": [
    "# Module 2\n",
    "## Exercises:Level 1\n",
    "## Variables"
   ]
  },
  {
   "cell_type": "code",
   "execution_count": 1,
   "metadata": {},
   "outputs": [
    {
     "data": {
      "text/plain": [
       "('Faiza Aminu', 'Nigeria', 'kaduna', 25, 2024, False, True, True)"
      ]
     },
     "execution_count": 1,
     "metadata": {},
     "output_type": "execute_result"
    }
   ],
   "source": [
    "#30Days of python programming\n",
    "\n",
    "\n",
    "#Declaring variables\n",
    "first_name=\"Faiza\"\n",
    "last_name=\"Aminu\"\n",
    "full_name=first_name+\" \"+last_name\n",
    "country=\"Nigeria\"\n",
    "city=\"kaduna\"\n",
    "age=25\n",
    "year=2024\n",
    "is_married=False\n",
    "is_true=True\n",
    "is_light_on=True\n",
    "\n",
    "#Declaring multiple variables in one line\n",
    "full_name,country,city,age,year,is_married,is_true,is_light_on"
   ]
  },
  {
   "cell_type": "markdown",
   "metadata": {},
   "source": [
    "# Exercises:level 2"
   ]
  },
  {
   "cell_type": "code",
   "execution_count": 2,
   "metadata": {},
   "outputs": [
    {
     "name": "stdout",
     "output_type": "stream",
     "text": [
      "<class 'str'>\n",
      "<class 'str'>\n",
      "<class 'str'>\n",
      "<class 'str'>\n",
      "<class 'str'>\n",
      "<class 'int'>\n",
      "<class 'int'>\n",
      "<class 'bool'>\n",
      "<class 'bool'>\n",
      "<class 'bool'>\n"
     ]
    }
   ],
   "source": [
    "#Checking the data type of  the variables using type() function\n",
    "print(type(first_name))\n",
    "print(type(last_name))\n",
    "print(type(full_name))\n",
    "print(type(country))\n",
    "print(type(city))\n",
    "print(type(age))\n",
    "print(type(year))\n",
    "print(type(is_married))\n",
    "print(type(is_true))\n",
    "print(type(is_light_on))"
   ]
  },
  {
   "cell_type": "code",
   "execution_count": 3,
   "metadata": {},
   "outputs": [
    {
     "name": "stdout",
     "output_type": "stream",
     "text": [
      "True\n"
     ]
    }
   ],
   "source": [
    "#compare the length of the first_name and the last_name\n",
    "print(len(first_name)==len(last_name))"
   ]
  },
  {
   "cell_type": "code",
   "execution_count": 4,
   "metadata": {},
   "outputs": [],
   "source": [
    "#Declare 5 as num_one andd 4 as num_two\n",
    "num_one=5\n",
    "num_two=4\n",
    "#Add num_one and num_two and assign yhe value to a variable total\n",
    "total=num_one=num_two\n",
    "#subtract num_one and num_two and assign a value to a variable diff\n",
    "diff=num_one-num_two\n",
    "#multiple num_one and num_two and assign the value to a variable product\n",
    "product=num_one*num_two\n",
    "#Divide num_one nd num_tWo and assign the value to a variable division\n",
    "division=num_one/num_two\n",
    "#Use modulus to find num_one divided by num_two and assign the value to a variable remainder\n",
    "remainder=num_one%num_two\n",
    "#find floor division of num_one and num_two and assign the value to a variable floor_division\n",
    "floor_division=num_one//num_two\n",
    "#calculate num_one to the power of num__two and assign a value to a variable exp\n",
    "exp=num_one**num_two"
   ]
  },
  {
   "cell_type": "code",
   "execution_count": 5,
   "metadata": {},
   "outputs": [
    {
     "name": "stdout",
     "output_type": "stream",
     "text": [
      "4\n",
      "0\n",
      "16\n",
      "1.0\n",
      "0\n",
      "1\n",
      "256\n"
     ]
    }
   ],
   "source": [
    "print(total)\n",
    "print(diff)\n",
    "print(product)\n",
    "print(division)\n",
    "print(remainder)\n",
    "print(floor_division)\n",
    "print(exp)\n"
   ]
  },
  {
   "cell_type": "code",
   "execution_count": 6,
   "metadata": {},
   "outputs": [],
   "source": [
    "#The radius of a circle is 30 meter\n",
    "#Calculate the area of a cicle and assign a value ti the variable name of area_of_circle\n",
    "#calculatethe circumstane of a cicle and assign a value the variable name of circum_of_circle\n",
    "#Take the radius as user input and calculate the area"
   ]
  },
  {
   "cell_type": "code",
   "execution_count": 7,
   "metadata": {},
   "outputs": [
    {
     "name": "stdout",
     "output_type": "stream",
     "text": [
      "2827.7999999999997\n",
      "187.20000000000002\n"
     ]
    }
   ],
   "source": [
    "radius=30\n",
    "area_of_circle=3.142*30**2\n",
    "print(area_of_circle)\n",
    "circum_of_circle=2*3.12*30\n",
    "print(circum_of_circle)\n",
    "\n"
   ]
  },
  {
   "cell_type": "code",
   "execution_count": null,
   "metadata": {},
   "outputs": [],
   "source": [
    "\n",
    "radius=float(input(\"Enter the radius of the circle:\"))\n",
    "area_of_circle=3.142*radius**2\n",
    "print(area_of_circle)\n",
    "\n"
   ]
  },
  {
   "cell_type": "code",
   "execution_count": null,
   "metadata": {},
   "outputs": [],
   "source": [
    "#use the built-in input function to get first_name, last_name, country and age from a user and store the value to their respective variable names\n",
    "first_name=input(\"Enter your first_name:\")\n",
    "last_name=input(\"Enter your last_name:\")\n",
    "country=input(\"Enter your country:\")\n",
    "age=input(\"Enter your age:\")\n",
    "print(first_name)\n",
    "print(last_name)\n",
    "print(country)\n",
    "print(age)"
   ]
  },
  {
   "cell_type": "code",
   "execution_count": null,
   "metadata": {},
   "outputs": [],
   "source": []
  }
 ],
 "metadata": {
  "kernelspec": {
   "display_name": "Python 3",
   "language": "python",
   "name": "python3"
  },
  "language_info": {
   "codemirror_mode": {
    "name": "ipython",
    "version": 3
   },
   "file_extension": ".py",
   "mimetype": "text/x-python",
   "name": "python",
   "nbconvert_exporter": "python",
   "pygments_lexer": "ipython3",
   "version": "3.13.1"
  }
 },
 "nbformat": 4,
 "nbformat_minor": 2
}
