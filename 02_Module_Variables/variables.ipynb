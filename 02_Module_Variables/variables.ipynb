{
 "cells": [
  {
   "cell_type": "markdown",
   "metadata": {},
   "source": [
    "# Module 2\n",
    "## Variables\n",
    "## Exercises:Level 1\n"
   ]
  },
  {
   "cell_type": "markdown",
   "metadata": {},
   "source": [
    "1. Write a python comment saying 'Day 2: 30 Days of python programming'\n",
    "2. Declare a first name variable and assign a value to it\n",
    "3. Declare a last name variable and assign a value to it\n",
    "4. Declare a full name variable and assign a value to it\n",
    "5. Declare a country variable and assign a value to it\n",
    "6. Declare a city variable and assign a value to it\n",
    "7. Declare an age variable and assign a value to it\n",
    "8. Declare a year variable and assign a value to it\n",
    "9. Declare a variable is_married and assign a value to it\n",
    "10. Declare a variable is_true and assign a value to it\n",
    "11. Declare a variable is_light_on and assign a value to it\n",
    "12. Declare multiple variable on one line.\n"
   ]
  },
  {
   "cell_type": "code",
   "execution_count": null,
   "metadata": {},
   "outputs": [],
   "source": [
    "#30 Days of python programming\n",
    "\n",
    "\n",
    "#Declaring variables\n",
    "first_name=\"Faiza\"\n",
    "last_name=\"Aminu\"\n",
    "full_name=first_name+\" \"+last_name\n",
    "country=\"Nigeria\"\n",
    "city=\"kaduna\"\n",
    "age=25\n",
    "year=2024\n",
    "is_married=False\n",
    "is_true=True\n",
    "is_light_on=True\n",
    "\n",
    "#Declaring multiple variables in one line\n",
    "full_name,country,city,age,year,is_married,is_true,is_light_on"
   ]
  },
  {
   "cell_type": "markdown",
   "metadata": {},
   "source": [
    "# Exercises:level 2"
   ]
  },
  {
   "cell_type": "markdown",
   "metadata": {},
   "source": [
    "1. Check the data type of all your variable using type()built-in function"
   ]
  },
  {
   "cell_type": "code",
   "execution_count": null,
   "metadata": {},
   "outputs": [],
   "source": [
    "#Checking the data type of  the variables using type() function\n",
    "print(type(first_name))\n",
    "print(type(last_name))\n",
    "print(type(full_name))\n",
    "print(type(country))\n",
    "print(type(city))\n",
    "print(type(age))\n",
    "print(type(year))\n",
    "print(type(is_married))\n",
    "print(type(is_true))\n",
    "print(type(is_light_on))"
   ]
  },
  {
   "cell_type": "markdown",
   "metadata": {},
   "source": [
    "2. Using the len()built-in function, find the length of your first name"
   ]
  },
  {
   "cell_type": "code",
   "execution_count": null,
   "metadata": {},
   "outputs": [],
   "source": [
    "print(len(first_name))"
   ]
  },
  {
   "cell_type": "markdown",
   "metadata": {},
   "source": [
    "3. Compare the length of your first name and last name"
   ]
  },
  {
   "cell_type": "code",
   "execution_count": null,
   "metadata": {},
   "outputs": [],
   "source": [
    "print(len(first_name)==len(last_name))"
   ]
  },
  {
   "cell_type": "markdown",
   "metadata": {},
   "source": [
    "4. Declare 5 as num_one and 4 as num_two\n",
    "   \n",
    "   i. Add num_one and num_two and assign the value to a variable total\n",
    "\n",
    "   ii. Subtract num_two from num_one and assign the value to a variable diff\n",
    "\n",
    "   iii. Multiply num_two and num_one and assign the value to a variable product\n",
    "\n",
    "   iv. Divide num_one by num_two and assign the value to a variable division\n",
    "\n",
    "    v. Use modulus division to find num_two divided by num_one and assign the value to a variable remainder\n",
    "\n",
    "   vi. Calculate num_one to the power of num_two and assign the value to a variable exp\n",
    "\n",
    "   vii. Find floor division of num_one by num_two and assign the value to a variable floor_division\n",
    "\n"
   ]
  },
  {
   "cell_type": "code",
   "execution_count": null,
   "metadata": {},
   "outputs": [],
   "source": [
    "\n",
    "num_one=5\n",
    "num_two=4\n",
    "\n",
    "total=num_one=num_two\n",
    "print(total)\n",
    "\n",
    "diff=num_one-num_two\n",
    "print(diff)\n",
    "\n",
    "product=num_one*num_two\n",
    "print(product)\n",
    "\n",
    "division=num_one/num_two\n",
    "print(division)\n",
    "\n",
    "remainder=num_one%num_two\n",
    "print(remainder)\n",
    "\n",
    "floor_division=num_one//num_two\n",
    "print(floor_division)\n",
    "\n",
    "exp=num_one**num_two\n",
    "print(exp)"
   ]
  },
  {
   "cell_type": "markdown",
   "metadata": {},
   "source": [
    "5. The radius of a circle is 30 meters.\n",
    "   \n",
    "   i. Calculate the area of a circle and assign the value to a variable name of area_of_circle\n",
    "\n",
    "   ii. Calculate the circumference of a circle and assign the value to a variable name of circum_of_circle\n",
    "\n",
    "   iii. Take radius as user input and calculate the area."
   ]
  },
  {
   "cell_type": "code",
   "execution_count": null,
   "metadata": {},
   "outputs": [],
   "source": [
    "radius = 30\n",
    "\n",
    "# Calculate the area of the circle\n",
    "area_of_circle = 3.142 * radius ** 2\n",
    "\n",
    "# Calculate the circumference of the circle\n",
    "circum_of_circle = 2 * 3.142 * radius\n",
    "\n",
    "# Print the results rounded to 3 decimal places\n",
    "print(f\"Area of the circle: {round(area_of_circle, 3)}\")\n",
    "print(f\"Circumference of the circle: {round(circum_of_circle, 3)}\")"
   ]
  },
  {
   "cell_type": "code",
   "execution_count": null,
   "metadata": {},
   "outputs": [],
   "source": [
    "radius=int(input(\"Enter the radius of the circle: \"))\n",
    "area_of_circle=3.142*radius**2\n",
    "print(f\"The area of the circle is: {round(area_of_circle,3)}\")\n",
    "\n"
   ]
  },
  {
   "cell_type": "markdown",
   "metadata": {},
   "source": [
    "6. Use the built-in input function to get first name, last name, country and age from a user and store the value to their corresponding variable names"
   ]
  },
  {
   "cell_type": "code",
   "execution_count": null,
   "metadata": {},
   "outputs": [],
   "source": [
    "first_name=input(\"Enter your first_name:\")\n",
    "last_name=input(\"Enter your last_name:\")\n",
    "country=input(\"Enter your country:\")\n",
    "age=input(\"Enter your age:\")\n",
    "print(first_name)\n",
    "print(last_name)\n",
    "print(country)\n",
    "print(age)"
   ]
  },
  {
   "cell_type": "markdown",
   "metadata": {},
   "source": [
    "7. Run help('keywords') in Python shell or in your file to check for the Python reserved words or keywords"
   ]
  },
  {
   "cell_type": "code",
   "execution_count": null,
   "metadata": {},
   "outputs": [],
   "source": [
    "help('keywords')"
   ]
  }
 ],
 "metadata": {
  "kernelspec": {
   "display_name": "Python 3",
   "language": "python",
   "name": "python3"
  },
  "language_info": {
   "codemirror_mode": {
    "name": "ipython",
    "version": 3
   },
   "file_extension": ".py",
   "mimetype": "text/x-python",
   "name": "python",
   "nbconvert_exporter": "python",
   "pygments_lexer": "ipython3",
   "version": "3.13.1"
  }
 },
 "nbformat": 4,
 "nbformat_minor": 2
}
