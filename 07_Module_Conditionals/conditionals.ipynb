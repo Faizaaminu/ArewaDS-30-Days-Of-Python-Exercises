{
 "cells": [
  {
   "cell_type": "markdown",
   "metadata": {},
   "source": [
    "# Module 07\n",
    "# Conditionals\n",
    "## Exercises: level 1"
   ]
  },
  {
   "cell_type": "markdown",
   "metadata": {},
   "source": [
    "1. Get user input using input(“Enter your age: ”). If user is 18 or older, give feedback: You are old enough to drive. If below 18 give feedback to wait for the missing amount of years. Output:"
   ]
  },
  {
   "cell_type": "code",
   "execution_count": 1,
   "metadata": {},
   "outputs": [
    {
     "name": "stdout",
     "output_type": "stream",
     "text": [
      "you are old enough to drive\n"
     ]
    }
   ],
   "source": [
    "age = int(input(\"Enter your age:\"))\n",
    "wait= 18 - age\n",
    "if age >= 18:\n",
    "  print('you are old enough to drive')\n",
    "else:\n",
    "  print(f'you have to wait for {wait}years before you can drive')\n",
    "     "
   ]
  },
  {
   "cell_type": "markdown",
   "metadata": {},
   "source": [
    "2. Compare the values of my_age and your_age using if … else. Who is older (me or you)? Use input(“Enter your age: ”) to get the age as input. You can use a nested condition to print 'year' for 1 year difference in age, 'years' for bigger differences, and a custom text if my_age = your_age. Output:"
   ]
  },
  {
   "cell_type": "code",
   "execution_count": 2,
   "metadata": {},
   "outputs": [
    {
     "name": "stdout",
     "output_type": "stream",
     "text": [
      "we are the same age\n"
     ]
    }
   ],
   "source": [
    "my_age=int(input('Enter your age:'))\n",
    "your_age =int(input('Enter your age:'))\n",
    "difference = my_age-your_age\n",
    "\n",
    "if my_age>your_age:\n",
    "    if difference ==1:\n",
    "        print(f'I am {difference} years older than you')\n",
    "    else:\n",
    "        print(f'I am {difference} years older than you')\n",
    "else: \n",
    "        print(f'we are the same age')\n",
    "   "
   ]
  },
  {
   "cell_type": "markdown",
   "metadata": {},
   "source": [
    "3. Get two numbers from the user using input prompt. If a is greater than b return a is greater than b, if a is less b return a is smaller than b, else a is equal to b. Output:\n",
    "``` python \n",
    "   Enter number one: 4\n",
    "Enter number two: 3\n",
    "4 is greater than 3\n",
    "```"
   ]
  },
  {
   "cell_type": "code",
   "execution_count": 3,
   "metadata": {},
   "outputs": [
    {
     "name": "stdout",
     "output_type": "stream",
     "text": [
      "1 is smaller than 2\n"
     ]
    }
   ],
   "source": [
    "a = int(input(\"Enter number one: \"))\n",
    "b = int(input(\"Enter number two: \"))\n",
    "\n",
    "if a > b:\n",
    "    print(f\"{a} is greater than {b}\")\n",
    "elif a < b:\n",
    "    print(f\"{a} is smaller than {b}\")\n",
    "else:\n",
    "    print(f\"{a} is equal to {b}\")"
   ]
  },
  {
   "cell_type": "markdown",
   "metadata": {},
   "source": [
    "## Exercises: Level 2"
   ]
  },
  {
   "cell_type": "markdown",
   "metadata": {},
   "source": [
    "1. Write a code which gives grade to students according to theirs scores:\n",
    " ``` python  \n",
    "80-100, A\n",
    "70-89, B\n",
    "60-69, C\n",
    "50-59, D\n",
    "0-49, F\n",
    "```"
   ]
  },
  {
   "cell_type": "code",
   "execution_count": 4,
   "metadata": {},
   "outputs": [
    {
     "name": "stdout",
     "output_type": "stream",
     "text": [
      "The student's grade is: B\n"
     ]
    }
   ],
   "source": [
    "score = int(input(\"Enter the student's score: \"))\n",
    "\n",
    "if 80 <= score <= 100:\n",
    "    grade = 'A'\n",
    "elif 70 <= score <= 79:\n",
    "    grade = 'B'\n",
    "elif 60 <= score <= 69:\n",
    "    grade = 'C'\n",
    "elif 50 <= score <= 59:\n",
    "    grade = 'D'\n",
    "elif 0 <= score <= 49:\n",
    "    grade = 'F'\n",
    "else:\n",
    "    grade = 'Invalid score'\n",
    "\n",
    "print(f\"The student's grade is: {grade}\")"
   ]
  },
  {
   "cell_type": "markdown",
   "metadata": {},
   "source": [
    "2. Check if the season is Autumn, Winter, Spring or Summer. If the user input is: September, October or November, the season is Autumn. December, January or February, the season is Winter. March, April or May, the season is Spring June, July or August, the season is Summer"
   ]
  },
  {
   "cell_type": "code",
   "execution_count": 9,
   "metadata": {},
   "outputs": [
    {
     "name": "stdout",
     "output_type": "stream",
     "text": [
      "The season for August is: Summer\n"
     ]
    }
   ],
   "source": [
    "month = input('Enter a month:')\n",
    "if month in ['September', 'October', 'November']:\n",
    "    print(f'The season for {month} is: Autumn')\n",
    "elif month in ['December', 'January', 'February']:\n",
    "    print(f'The season for {month} is: Winter')\n",
    "elif month in ['March', 'April', 'May']:\n",
    "    print(f'The season for {month} is: Spring')\n",
    "elif month in ['June', 'July', 'August']:\n",
    "    print(f'The season for {month} is: Summer')\n",
    "else:\n",
    "    print(f'{month} is an invalid month')"
   ]
  },
  {
   "cell_type": "code",
   "execution_count": 6,
   "metadata": {},
   "outputs": [
    {
     "name": "stdout",
     "output_type": "stream",
     "text": [
      "the season for june is: Autumn\n"
     ]
    }
   ],
   "source": [
    "month=input('Enter a month:')\n",
    "if month  == 'September'or 'October'or 'November':\n",
    "  print(f'the season for {month} is: Autumn')\n",
    "elif month =='December' or 'January' or 'February':\n",
    "  print(f'the season for {month} is: Winter')\n",
    "elif month == 'March'  or 'April' or 'May':\n",
    "  print(f'the season for{month} is: Spring')\n",
    "elif month == 'June' or 'July' or 'August':\n",
    "  print(f'the season for{month} is: Summer')\n",
    "else:\n",
    "  print(f'{month} is invalid  month')\n"
   ]
  },
  {
   "cell_type": "markdown",
   "metadata": {},
   "source": [
    "3. The following list contains some fruits:\n",
    "   \n",
    "``` sh\n",
    "fruits = ['banana', 'orange', 'mango', 'lemon']\n",
    "```\n",
    "\n",
    "If a fruit doesn't exist in the list add the fruit to the list and print the modified list. If the fruit exists print('That fruit already exist in the list')"
   ]
  },
  {
   "cell_type": "code",
   "execution_count": 7,
   "metadata": {},
   "outputs": [
    {
     "name": "stdout",
     "output_type": "stream",
     "text": [
      "mango already exist in the list:\n"
     ]
    }
   ],
   "source": [
    "fruit=input('Enter a Fruit:')\n",
    "fruits = ['banana', 'orange', 'mango', 'lemon']\n",
    "\n",
    "if fruit in fruits:\n",
    "    print(f'{fruit} already exist in the list:')\n",
    "else:\n",
    "    fruits.append(fruit)\n",
    "    print(fruits)\n"
   ]
  },
  {
   "cell_type": "markdown",
   "metadata": {},
   "source": [
    "## Exercises: Level 3"
   ]
  },
  {
   "cell_type": "markdown",
   "metadata": {},
   "source": [
    "\n",
    "* Check if the person dictionary has skills key, if so print out the middle skill in the skills list.\n",
    " * Check if the person dictionary has skills key, if so check if the person has 'Python' skill and print out the result.\n",
    " * If a person skills has only JavaScript and React, print('He is a front end developer'), if the person skills has Node, Python, MongoDB, print('He is a backend developer'), if the person skills has React, Node and MongoDB, Print('He is a fullstack developer'), else print('unknown title') - for more accurate results more conditions can be nested!\n",
    " * If the person is married and if he lives in Finland, print the information in the following format:\n",
    "    \n",
    "\n",
    " ``` python\n",
    "        Asabeneh Yetayeh lives in Finland. He is married.\n",
    "  ```"
   ]
  },
  {
   "cell_type": "code",
   "execution_count": 24,
   "metadata": {},
   "outputs": [
    {
     "name": "stdout",
     "output_type": "stream",
     "text": [
      "unknown title\n"
     ]
    }
   ],
   "source": [
    "if 'skills' in person:\n",
    "    skills =set(person['skills'])\n",
    "    if set(skills) == {'JavaScript', 'React'}:\n",
    "        print('He is a front end developer')\n",
    "    elif set(skills) == {'Node', 'Python', 'MongoDB'}:\n",
    "        print('He is a backend developer')\n",
    "    elif set(skills) == {'React', 'Node', 'MongoDB'}:\n",
    "        print('He is a fullstack developer')\n",
    "    else:\n",
    "        print('unknown title')"
   ]
  },
  {
   "cell_type": "code",
   "execution_count": null,
   "metadata": {},
   "outputs": [],
   "source": []
  },
  {
   "cell_type": "code",
   "execution_count": 10,
   "metadata": {},
   "outputs": [],
   "source": [
    "person={\n",
    "    'first_name': 'Asabeneh',\n",
    "    'last_name': 'Yetayeh',\n",
    "    'age': 250,\n",
    "    'country': 'Finland',\n",
    "    'is_marred': True,\n",
    "    'skills': ['JavaScript', 'React', 'Node', 'MongoDB', 'Python'],\n",
    "    'address': {\n",
    "        'street': 'Space street',\n",
    "        'zipcode': '02210'\n",
    "    }\n",
    "    }"
   ]
  },
  {
   "cell_type": "code",
   "execution_count": 11,
   "metadata": {},
   "outputs": [
    {
     "name": "stdout",
     "output_type": "stream",
     "text": [
      "Node\n"
     ]
    }
   ],
   "source": [
    "if 'skills' in person:\n",
    "    print(person['skills'][2])"
   ]
  },
  {
   "cell_type": "code",
   "execution_count": 12,
   "metadata": {},
   "outputs": [
    {
     "name": "stdout",
     "output_type": "stream",
     "text": [
      "person skills is: \"python\" \n"
     ]
    }
   ],
   "source": [
    "if 'skills' in person:\n",
    "    print(f'person skills is: \"python\" ')"
   ]
  },
  {
   "cell_type": "code",
   "execution_count": 13,
   "metadata": {},
   "outputs": [
    {
     "name": "stdout",
     "output_type": "stream",
     "text": [
      "JavaScript\n"
     ]
    }
   ],
   "source": [
    "if 'skills' in person:\n",
    "    print(person['skills'][0])"
   ]
  },
  {
   "cell_type": "code",
   "execution_count": null,
   "metadata": {},
   "outputs": [],
   "source": [
    "# Example person dictionary\n",
    "person = {\n",
    "    'first_name': 'John',\n",
    "    'last_name': 'Doe',\n",
    "    'is_married': True,\n",
    "    'country': 'Nigeria'\n",
    "}\n",
    "\n",
    "# Conditional check\n",
    "if person['is_married'] == True:\n",
    "    if person['country'] == 'Nigeria':\n",
    "        print(f\"{person['first_name']} {person['last_name']} lives in {person['country']} and he is married.\")\n"
   ]
  },
  {
   "cell_type": "code",
   "execution_count": 25,
   "metadata": {},
   "outputs": [],
   "source": [
    "if person ['is_marred'] ==True:\n",
    "    if person['country'] == 'Nigeria':\n",
    "        print(f\"{person['first_name']} {person['last_name']} live in {person['country']} and he is marred.\")"
   ]
  }
 ],
 "metadata": {
  "kernelspec": {
   "display_name": "Python 3",
   "language": "python",
   "name": "python3"
  },
  "language_info": {
   "codemirror_mode": {
    "name": "ipython",
    "version": 3
   },
   "file_extension": ".py",
   "mimetype": "text/x-python",
   "name": "python",
   "nbconvert_exporter": "python",
   "pygments_lexer": "ipython3",
   "version": "3.13.1"
  }
 },
 "nbformat": 4,
 "nbformat_minor": 2
}
