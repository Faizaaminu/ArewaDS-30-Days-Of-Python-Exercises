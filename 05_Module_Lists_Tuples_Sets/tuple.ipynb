{
 "cells": [
  {
   "cell_type": "markdown",
   "metadata": {},
   "source": [
    " # Tuples\n",
    " ## Exercises: level 1"
   ]
  },
  {
   "cell_type": "markdown",
   "metadata": {},
   "source": [
    "1. Create an empty tuple"
   ]
  },
  {
   "cell_type": "code",
   "execution_count": 2,
   "metadata": {},
   "outputs": [],
   "source": [
    "tpl=tuple()"
   ]
  },
  {
   "cell_type": "markdown",
   "metadata": {},
   "source": [
    "2. Create a tuple containing names of your sisters and your brothers (imaginary siblings are fine)"
   ]
  },
  {
   "cell_type": "code",
   "execution_count": 3,
   "metadata": {},
   "outputs": [
    {
     "name": "stdout",
     "output_type": "stream",
     "text": [
      "('Fatima', 'Asmau', 'Khadija')\n",
      "('Abubakar', 'Aliyu', 'umar')\n"
     ]
    }
   ],
   "source": [
    "sisters=('Fatima' ,'Asmau', 'Khadija')\n",
    "brothers=('Abubakar', 'Aliyu', 'umar')\n",
    "print(sisters)\n",
    "print(brothers)"
   ]
  },
  {
   "cell_type": "markdown",
   "metadata": {},
   "source": [
    "3. Join brothers and sisters tuples and assign it to siblings"
   ]
  },
  {
   "cell_type": "code",
   "execution_count": 4,
   "metadata": {},
   "outputs": [
    {
     "name": "stdout",
     "output_type": "stream",
     "text": [
      "('Abubakar', 'Aliyu', 'umar', 'Fatima', 'Asmau', 'Khadija')\n"
     ]
    }
   ],
   "source": [
    "siblings=brothers+sisters\n",
    "print(siblings)"
   ]
  },
  {
   "cell_type": "markdown",
   "metadata": {},
   "source": [
    "4. How many siblings do you have?"
   ]
  },
  {
   "cell_type": "code",
   "execution_count": 5,
   "metadata": {},
   "outputs": [
    {
     "name": "stdout",
     "output_type": "stream",
     "text": [
      "6\n"
     ]
    }
   ],
   "source": [
    "print(len(siblings))"
   ]
  },
  {
   "cell_type": "markdown",
   "metadata": {},
   "source": [
    "5. Modify the siblings tuple and add the name of your father and mother and assign it to family_members"
   ]
  },
  {
   "cell_type": "code",
   "execution_count": 6,
   "metadata": {},
   "outputs": [
    {
     "name": "stdout",
     "output_type": "stream",
     "text": [
      "('Abubakar', 'Aliyu', 'umar', 'Fatima', 'Asmau', 'Khadija', 'Aminu', 'Hussaina')\n"
     ]
    }
   ],
   "source": [
    "# Define the siblings tuple\n",
    "siblings =('Abubakar', 'Aliyu', 'umar', 'Fatima', 'Asmau', 'Khadija')\n",
    "\n",
    "# Convert tuple to a list\n",
    "family_members = list(siblings)\n",
    "\n",
    "# Add father's and mother's names\n",
    "father = 'Aminu'\n",
    "mother = 'Hussaina'\n",
    "family_members.append(father)\n",
    "family_members.append(mother)\n",
    "\n",
    "# Convert back to tuple\n",
    "family_members = tuple(family_members)\n",
    "\n",
    "print(family_members)\n"
   ]
  },
  {
   "cell_type": "markdown",
   "metadata": {},
   "source": [
    "## Exercises: Level 2"
   ]
  },
  {
   "cell_type": "markdown",
   "metadata": {},
   "source": [
    "1. Unpack siblings and parents from family_members\n"
   ]
  },
  {
   "cell_type": "code",
   "execution_count": 7,
   "metadata": {},
   "outputs": [
    {
     "name": "stdout",
     "output_type": "stream",
     "text": [
      "Siblings: ['Abubakar', 'Aliyu', 'umar', 'Fatima', 'Asmau', 'Khadija']\n",
      "Father: Aminu\n",
      "Mother: Hussaina\n"
     ]
    }
   ],
   "source": [
    "*siblings, father, mother = family_members\n",
    "print(\"Siblings:\", siblings)\n",
    "print(\"Father:\", father)\n",
    "print(\"Mother:\", mother)"
   ]
  },
  {
   "cell_type": "markdown",
   "metadata": {},
   "source": [
    "2. Create fruits, vegetables and animal products tuples. Join the three tuples and assign it to a variable called food_stuff_tp."
   ]
  },
  {
   "cell_type": "code",
   "execution_count": 8,
   "metadata": {},
   "outputs": [
    {
     "name": "stdout",
     "output_type": "stream",
     "text": [
      "('apple', 'banana', 'mango', 'orange', 'spinach', 'carrot', 'cabbage', 'cucumber', 'meat', 'meat', 'egg')\n"
     ]
    }
   ],
   "source": [
    "#create tuple\n",
    "fruits=('apple', 'banana', 'mango', 'orange')\n",
    "vegetables=('spinach', 'carrot', 'cabbage', 'cucumber')\n",
    "animal_products=('meat', 'meat', 'egg')\n",
    "\n",
    "#join the tuple\n",
    "food_stuff_tf=fruits+vegetables+animal_products\n",
    "print(food_stuff_tf)\n",
    "\n"
   ]
  },
  {
   "cell_type": "markdown",
   "metadata": {},
   "source": [
    "3. Change the about food_stuff_tp tuple to a food_stuff_lt list"
   ]
  },
  {
   "cell_type": "code",
   "execution_count": 9,
   "metadata": {},
   "outputs": [
    {
     "name": "stdout",
     "output_type": "stream",
     "text": [
      "['apple', 'banana', 'mango', 'orange', 'spinach', 'carrot', 'cabbage', 'cucumber', 'meat', 'meat', 'egg']\n"
     ]
    }
   ],
   "source": [
    "food_stuff_lt = list(food_stuff_tf)\n",
    "print(food_stuff_lt)"
   ]
  },
  {
   "cell_type": "markdown",
   "metadata": {},
   "source": [
    "4. Slice out the middle item or items from the food_stuff_tp tuple or food_stuff_lt list."
   ]
  },
  {
   "cell_type": "code",
   "execution_count": 10,
   "metadata": {},
   "outputs": [
    {
     "name": "stdout",
     "output_type": "stream",
     "text": [
      "Middle item(s): carrot\n"
     ]
    }
   ],
   "source": [
    "\n",
    "\n",
    "# Determine the middle item(s)\n",
    "length = len(food_stuff_lt)\n",
    "if length % 2 == 0:\n",
    "    # Even number of items: slice two middle items\n",
    "    middle_items = food_stuff_lt[length // 2 - 1:length // 2 + 1]\n",
    "else:\n",
    "    # Odd number of items: slice one middle item\n",
    "    middle_items = food_stuff_lt[length // 2]\n",
    "\n",
    "print(\"Middle item(s):\", middle_items)\n"
   ]
  },
  {
   "cell_type": "markdown",
   "metadata": {},
   "source": [
    "5. Slice out the first three items and the last three items from food_staff_lt list"
   ]
  },
  {
   "cell_type": "code",
   "execution_count": 13,
   "metadata": {},
   "outputs": [
    {
     "name": "stdout",
     "output_type": "stream",
     "text": [
      "First three items: ['apple', 'banana', 'orange']\n",
      "Last three items: ['milk', 'cheese', 'egg']\n"
     ]
    }
   ],
   "source": [
    "# Original list\n",
    "food_stuff_lt = ['apple', 'banana', 'orange', 'carrot', 'spinach', 'broccoli', 'milk', 'cheese', 'egg']\n",
    "\n",
    "# Slice the first three items\n",
    "first_three = food_stuff_lt[:3]\n",
    "\n",
    "# Slice the last three items\n",
    "last_three = food_stuff_lt[-3:]\n",
    "\n",
    "print(\"First three items:\", first_three)\n",
    "print(\"Last three items:\", last_three)\n"
   ]
  },
  {
   "cell_type": "markdown",
   "metadata": {},
   "source": [
    "6. Delete the food_staff_tp tuple completely"
   ]
  },
  {
   "cell_type": "code",
   "execution_count": 14,
   "metadata": {},
   "outputs": [],
   "source": [
    "del food_stuff_tf"
   ]
  },
  {
   "cell_type": "markdown",
   "metadata": {},
   "source": [
    "7. Check if an item exists in tuple:\n",
    "\n",
    "- Check if 'Estonia' is a nordic country\n",
    "\n",
    "- Check if 'Iceland' is a nordic country\n",
    "\n",
    "``` python\n",
    "nordic_countries = ('Denmark', 'Finland','Iceland', 'Norway', 'Sweden')\n",
    "```"
   ]
  },
  {
   "cell_type": "code",
   "execution_count": 15,
   "metadata": {},
   "outputs": [
    {
     "ename": "NameError",
     "evalue": "name 'food_stuff_tf' is not defined",
     "output_type": "error",
     "traceback": [
      "\u001b[1;31m---------------------------------------------------------------------------\u001b[0m",
      "\u001b[1;31mNameError\u001b[0m                                 Traceback (most recent call last)",
      "Cell \u001b[1;32mIn[15], line 1\u001b[0m\n\u001b[1;32m----> 1\u001b[0m \u001b[38;5;28mprint\u001b[39m(\u001b[43mfood_stuff_tf\u001b[49m)\n",
      "\u001b[1;31mNameError\u001b[0m: name 'food_stuff_tf' is not defined"
     ]
    }
   ],
   "source": [
    "print(food_stuff_tf)"
   ]
  },
  {
   "cell_type": "code",
   "execution_count": 16,
   "metadata": {},
   "outputs": [
    {
     "name": "stdout",
     "output_type": "stream",
     "text": [
      "Is Estonia a nordic country? False\n",
      "Is Iceland a nordic country? True\n"
     ]
    }
   ],
   "source": [
    "nordic_countries = ('Denmark', 'Finland', 'Iceland', 'Norway', 'Sweden')\n",
    "\n",
    "# Check if 'Estonia' is a nordic country\n",
    "is_estonia_nordic = 'Estonia' in nordic_countries\n",
    "print(\"Is Estonia a nordic country?\", is_estonia_nordic)\n",
    "\n",
    "# Check if 'Iceland' is a nordic country\n",
    "is_iceland_nordic = 'Iceland' in nordic_countries\n",
    "print(\"Is Iceland a nordic country?\", is_iceland_nordic)"
   ]
  }
 ],
 "metadata": {
  "kernelspec": {
   "display_name": "Python 3",
   "language": "python",
   "name": "python3"
  },
  "language_info": {
   "codemirror_mode": {
    "name": "ipython",
    "version": 3
   },
   "file_extension": ".py",
   "mimetype": "text/x-python",
   "name": "python",
   "nbconvert_exporter": "python",
   "pygments_lexer": "ipython3",
   "version": "3.13.1"
  }
 },
 "nbformat": 4,
 "nbformat_minor": 2
}
