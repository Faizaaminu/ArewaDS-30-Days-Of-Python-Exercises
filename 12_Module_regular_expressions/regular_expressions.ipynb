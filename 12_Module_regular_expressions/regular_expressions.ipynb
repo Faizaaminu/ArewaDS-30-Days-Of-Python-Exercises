{
 "cells": [
  {
   "cell_type": "markdown",
   "metadata": {},
   "source": [
    "# Module 12\n",
    " ## Regular Expressions\n",
    " ## Exercises: level 1"
   ]
  },
  {
   "cell_type": "markdown",
   "metadata": {},
   "source": [
    "1. What is the most frequent word in the following paragraph?\n",
    "``` python\n",
    " paragraph = 'I love teaching. If you do not love teaching what else can you love. I love Python if you do not love something which can give you all the capabilities to develop an application what else can you love.\n",
    " ```"
   ]
  },
  {
   "cell_type": "markdown",
   "metadata": {},
   "source": []
  },
  {
   "cell_type": "markdown",
   "metadata": {},
   "source": [
    "   ``` python\n",
    "    [\n",
    "    (6, 'love'),\n",
    "    (5, 'you'),\n",
    "    (3, 'can'),\n",
    "    (2, 'what'),\n",
    "    (2, 'teaching'),\n",
    "    (2, 'not'),\n",
    "    (2, 'else'),\n",
    "    (2, 'do'),\n",
    "    (2, 'I'),\n",
    "    (1, 'which'),\n",
    "    (1, 'to'),\n",
    "    (1, 'the'),\n",
    "    (1, 'something'),\n",
    "    (1, 'if'),\n",
    "    (1, 'give'),\n",
    "    (1, 'develop'),\n",
    "    (1, 'capabilities'),\n",
    "    (1, 'application'),\n",
    "    (1, 'an'),\n",
    "    (1, 'all'),\n",
    "    (1, 'Python'),\n",
    "    (1, 'If')\n",
    "    ]\n",
    "```"
   ]
  },
  {
   "cell_type": "code",
   "execution_count": 15,
   "metadata": {},
   "outputs": [
    {
     "name": "stdout",
     "output_type": "stream",
     "text": [
      "[('you', 5), ('love', 4), ('can', 3), ('I', 2), ('do', 2), ('not', 2), ('what', 2), ('else', 2), ('love.', 2), ('teaching.', 1), ('If', 1), ('teaching', 1), ('Python', 1), ('if', 1), ('something', 1), ('which', 1), ('give', 1), ('all', 1), ('the', 1), ('capabilities', 1), ('to', 1), ('develop', 1), ('an', 1), ('application', 1)]\n"
     ]
    }
   ],
   "source": [
    "import re\n",
    "from collections import Counter\n",
    "paragraph = 'I love teaching. If you do not love teaching what else can you love. I love Python if you do not love something which can give you all the capabilities to develop an application what else can you love.'\n",
    "words = paragraph.split()\n",
    "\n",
    "# Count the frequency of each word\n",
    "word_counts = Counter(words)\n",
    "list_of_words=[(i, j) for i ,j in word_counts.items()]\n",
    "list_of_words.sort(key=lambda x: x[1], reverse=True)\n",
    "print(list_of_words)\n"
   ]
  },
  {
   "cell_type": "markdown",
   "metadata": {},
   "source": [
    "2. The position of some particles on the horizontal x-axis are -12, -4, -3 and -1 in the negative direction, 0 at origin, 4 and 8 in the positive direction. Extract these numbers from this whole text and find the distance between the two furthest particles.\n",
    "``` python\n",
    "points = ['-12', '-4', '-3', '-1', '0', '4', '8']\n",
    "sorted_points =  [-12, -4, -3, -1, -1, 0, 2, 4, 8]\n",
    "distance = 8 -(-12) # 20\n",
    "```"
   ]
  },
  {
   "cell_type": "code",
   "execution_count": 3,
   "metadata": {},
   "outputs": [
    {
     "name": "stdout",
     "output_type": "stream",
     "text": [
      "Points: [-12, -4, -3, -1, 0, 4, 8]\n",
      "Sorted Points: [-12, -4, -3, -1, 0, 4, 8]\n",
      "Distance = 8 - (-12) = 20\n"
     ]
    }
   ],
   "source": [
    "import re\n",
    "\n",
    "# Input question\n",
    "question = \"The position of some particles on the horizontal x-axis are -12, -4, -3 and -1 in the negative direction, 0 at origin, 4 and 8 in the positive direction. Extract these numbers from this whole text and find the distance between the two furthest particles.\"\n",
    "\n",
    "# Regex pattern to extract numbers (including negatives)\n",
    "distance_pattern = r\"-?\\d+\"\n",
    "\n",
    "# Find all numbers and convert to integers\n",
    "points = re.findall(distance_pattern, question)\n",
    "points = list(map(int, points))  # Convert to integers\n",
    "\n",
    "print(\"Points:\", points)\n",
    "\n",
    "# Sort the points\n",
    "sorted_points = sorted(points)\n",
    "print(\"Sorted Points:\", sorted_points)\n",
    "\n",
    "# Calculate the distance between the furthest points\n",
    "distance = sorted_points[-1] - sorted_points[0]\n",
    "print(f\"Distance = {sorted_points[-1]} - ({sorted_points[0]}) = {distance}\")\n"
   ]
  },
  {
   "cell_type": "markdown",
   "metadata": {},
   "source": [
    "# Exercises: Level 2"
   ]
  },
  {
   "cell_type": "markdown",
   "metadata": {},
   "source": [
    "1. Write a pattern which identifies if a string is a valid python variable\n",
    "``` python\n",
    "is_valid_variable('first_name') # True\n",
    "is_valid_variable('first-name') # False\n",
    "is_valid_variable('1first_name') # False\n",
    "is_valid_variable('firstname') # True\n",
    "```"
   ]
  },
  {
   "cell_type": "code",
   "execution_count": 4,
   "metadata": {},
   "outputs": [
    {
     "name": "stdout",
     "output_type": "stream",
     "text": [
      "1first_name: False\n",
      "firstname: True\n",
      "first_name: True\n",
      "first-name: False\n"
     ]
    }
   ],
   "source": [
    "import re\n",
    "\n",
    "def is_valid_variable(x):\n",
    "   \n",
    "    var_pattern = r'^[a-zA-Z_]\\w*$'\n",
    "    # check if the string matches the pattern\n",
    "    if re.match(var_pattern, x):\n",
    "        result = True\n",
    "    else:\n",
    "        result = False\n",
    "    \n",
    "    return result\n",
    "\n",
    "one = is_valid_variable('1first_name')  # Invalid (starts with a digit)\n",
    "two = is_valid_variable('firstname')    # Valid\n",
    "three = is_valid_variable('first_name') # Valid\n",
    "four = is_valid_variable('first-name')  # Invalid (contains a hyphen)\n",
    "\n",
    "# Print results\n",
    "print(\"1first_name:\", one)    # False\n",
    "print(\"firstname:\", two)      # True\n",
    "print(\"first_name:\", three)   # True\n",
    "print(\"first-name:\", four)    # False\n"
   ]
  },
  {
   "cell_type": "markdown",
   "metadata": {},
   "source": [
    "# Exercises: Level 3   "
   ]
  },
  {
   "cell_type": "markdown",
   "metadata": {},
   "source": [
    "3. Clean the following text. After cleaning, count three most frequent words in the string.\n",
    "``` python\n",
    "sentence = '''%I $am@% a %tea@cher%, &and& I lo%#ve %tea@ching%;. There $is nothing; &as& mo@re rewarding as educa@ting &and& @emp%o@wering peo@ple. ;I found tea@ching m%o@re interesting tha@n any other %jo@bs. %Do@es thi%s mo@tivate yo@u to be a tea@cher!?'''\n",
    "\n",
    "print(clean_text(sentence));\n",
    "I am a teacher and I love teaching There is nothing as more rewarding as educating and empowering people I found teaching more interesting than any other jobs Does this motivate you to be a teacher\n",
    "print(most_frequent_words(cleaned_text)) # [(3, 'I'), (2, 'teaching'), (2, 'teacher')]\n",
    "```"
   ]
  },
  {
   "cell_type": "code",
   "execution_count": 13,
   "metadata": {},
   "outputs": [
    {
     "name": "stdout",
     "output_type": "stream",
     "text": [
      "The sentence before cleaning:\n",
      " %I $am@% a %tea@cher%, &and& I lo%#ve %tea@ching%;. There $is nothing; &as& mo@re rewarding as educa@ting &and& @emp%o@wering peo@ple. ;I found tea@ching m%o@re interesting tha@n any other %jo@bs. %Do@es thi%s mo@tivate yo@u to be a tea@cher!?\n",
      "\n",
      "The sentence after cleaning:\n",
      " I am a teacher and I love teaching There is nothing as more rewarding as educating and empowering people I found teaching more interesting than any other jobs Does this motivate you to be a teacher\n",
      "\n",
      "The three most frequent words are:\n",
      " [('I', 3), ('a', 2), ('teacher', 2)]\n"
     ]
    }
   ],
   "source": [
    "import re\n",
    "from collections import Counter\n",
    "\n",
    "# Function to clean text\n",
    "def clean_text(text):\n",
    "    # Remove special characters and punctuation using regex\n",
    "    cleaned = re.sub(r'[^\\w\\s]', '', text)  \n",
    "\n",
    "# Function to find the most frequent words\n",
    "def most_frequent_words(text):\n",
    "    # Split cleaned text into words\n",
    "    words = text.split()\n",
    "    # Count occurrences of each word\n",
    "    word_counts = Counter(words)\n",
    "    # Get the three most common words\n",
    "    most_frequent = word_counts.most_common(3)\n",
    "    return most_frequent\n",
    "\n",
    "# Original sentence\n",
    "sentence = '''%I $am@% a %tea@cher%, &and& I lo%#ve %tea@ching%;. There $is nothing; &as& mo@re rewarding as educa@ting &and& @emp%o@wering peo@ple. ;I found tea@ching m%o@re interesting tha@n any other %jo@bs. %Do@es thi%s mo@tivate yo@u to be a tea@cher!?'''\n",
    "\n",
    "# Display the original sentence\n",
    "print(\"The sentence before cleaning:\\n\", sentence)\n",
    "\n",
    "# Clean the text\n",
    "cleaned_text = clean_text(sentence)\n",
    "print(\"\\nThe sentence after cleaning:\\n\", cleaned_text)\n",
    "\n",
    "# Find the three most frequent words\n",
    "most_frequent = most_frequent_words(cleaned_text)\n",
    "print(\"\\nThe three most frequent words are:\\n\", most_frequent)\n"
   ]
  }
 ],
 "metadata": {
  "kernelspec": {
   "display_name": "Python 3",
   "language": "python",
   "name": "python3"
  },
  "language_info": {
   "codemirror_mode": {
    "name": "ipython",
    "version": 3
   },
   "file_extension": ".py",
   "mimetype": "text/x-python",
   "name": "python",
   "nbconvert_exporter": "python",
   "pygments_lexer": "ipython3",
   "version": "3.13.1"
  }
 },
 "nbformat": 4,
 "nbformat_minor": 2
}
