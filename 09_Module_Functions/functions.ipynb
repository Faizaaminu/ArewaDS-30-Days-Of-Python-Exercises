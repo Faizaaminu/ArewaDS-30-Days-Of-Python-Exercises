{
 "cells": [
  {
   "cell_type": "markdown",
   "metadata": {},
   "source": [
    "# Module 09\n",
    "# Functions\n",
    "## Exercises: level 1"
   ]
  },
  {
   "cell_type": "markdown",
   "metadata": {},
   "source": [
    "1. Declare a function add_two_numbers. It takes two parameters and it returns a sum"
   ]
  },
  {
   "cell_type": "code",
   "execution_count": 2,
   "metadata": {},
   "outputs": [
    {
     "name": "stdout",
     "output_type": "stream",
     "text": [
      "5\n"
     ]
    }
   ],
   "source": [
    "def add_two_numbers ():\n",
    "    num_one = 2\n",
    "    num_two = 3\n",
    "    total = num_one + num_two\n",
    "    print(total)\n",
    "add_two_numbers()"
   ]
  },
  {
   "cell_type": "code",
   "execution_count": 3,
   "metadata": {},
   "outputs": [],
   "source": [
    "def add_two_numbers ():\n",
    "    num_one = 2\n",
    "    num_two = 3\n",
    "    sum= 2 + 3\n",
    "    return sum\n",
    "    print(\" the total numbers is : \", add_two_numbers())"
   ]
  },
  {
   "cell_type": "markdown",
   "metadata": {},
   "source": [
    "2. Area of a circle is calculated as follows: area = π x r x r. Write a function that calculates area_of_circle."
   ]
  },
  {
   "cell_type": "code",
   "execution_count": 51,
   "metadata": {},
   "outputs": [
    {
     "name": "stdout",
     "output_type": "stream",
     "text": [
      "the  area of a circle with radius is 78.5.\n"
     ]
    }
   ],
   "source": [
    "def area_of_circle (r):\n",
    "    PI = 3.14\n",
    "    area = PI * r * r\n",
    "    return area\n",
    "print(f\"the  area of a circle with radius is {area_of_circle(5)}.\")"
   ]
  },
  {
   "cell_type": "markdown",
   "metadata": {},
   "source": [
    "3. Write a function called add_all_nums which takes arbitrary number of arguments and sums all the arguments. Check if all the list items are number types. If not do give a reasonable feedback."
   ]
  },
  {
   "cell_type": "code",
   "execution_count": 13,
   "metadata": {},
   "outputs": [
    {
     "name": "stdout",
     "output_type": "stream",
     "text": [
      "10\n"
     ]
    },
    {
     "ename": "NameError",
     "evalue": "name 'add_all_nums' is not defined",
     "output_type": "error",
     "traceback": [
      "\u001b[1;31m---------------------------------------------------------------------------\u001b[0m",
      "\u001b[1;31mNameError\u001b[0m                                 Traceback (most recent call last)",
      "Cell \u001b[1;32mIn[13], line 7\u001b[0m\n\u001b[0;32m      5\u001b[0m     \u001b[38;5;28;01mreturn\u001b[39;00m total\n\u001b[0;32m      6\u001b[0m \u001b[38;5;28mprint\u001b[39m(sum_all_nums(\u001b[38;5;241m2\u001b[39m, \u001b[38;5;241m3\u001b[39m, \u001b[38;5;241m5\u001b[39m)) \u001b[38;5;66;03m# 10\u001b[39;00m\n\u001b[1;32m----> 7\u001b[0m \u001b[38;5;28mprint\u001b[39m(\u001b[43madd_all_nums\u001b[49m(\u001b[38;5;241m1\u001b[39m, \u001b[38;5;124m'\u001b[39m\u001b[38;5;124ma\u001b[39m\u001b[38;5;124m'\u001b[39m, \u001b[38;5;241m3\u001b[39m))     \u001b[38;5;66;03m# Should return \"All arguments must be numbers\"\u001b[39;00m\n",
      "\u001b[1;31mNameError\u001b[0m: name 'add_all_nums' is not defined"
     ]
    }
   ],
   "source": [
    "def sum_all_nums(*nums):\n",
    "    total = 0\n",
    "    for num in nums:\n",
    "        total += num     # same as total = total + num \n",
    "    return total\n",
    "print(sum_all_nums(2, 3, 5)) # 10\n",
    "print(add_all_nums(1, 'a', 3))     # Should return \"All arguments must be numbers\""
   ]
  },
  {
   "cell_type": "markdown",
   "metadata": {},
   "source": [
    "4. Temperature in °C can be converted to °F using this formula: °F = (°C x 9/5) + 32. Write a function which converts °C to °F, convert_celsius_to-fahrenheit."
   ]
  },
  {
   "cell_type": "code",
   "execution_count": 14,
   "metadata": {},
   "outputs": [
    {
     "name": "stdout",
     "output_type": "stream",
     "text": [
      "25.0°C is equivalent to 77.00°F.\n"
     ]
    }
   ],
   "source": [
    "def convert_celsius_to_fahrenheit(celsius):\n",
    "    #function that convert celcius to fahreheit\n",
    "    fahrenheit = (celsius * 9/5) + 32\n",
    "    return fahrenheit\n",
    "\n",
    "celsius = float(input(\"Enter the temperature in Celsius: \"))\n",
    "fahrenheit = convert_celsius_to_fahrenheit(celsius)\n",
    "print(f\"{celsius}°C is equivalent to {fahrenheit:.2f}°F.\")\n"
   ]
  },
  {
   "cell_type": "markdown",
   "metadata": {},
   "source": [
    "5. Write a function called check-season, it takes a month parameter and returns the season: Autumn, Winter, Spring or Summer."
   ]
  },
  {
   "cell_type": "code",
   "execution_count": 22,
   "metadata": {},
   "outputs": [
    {
     "data": {
      "text/plain": [
       "'Invalid month'"
      ]
     },
     "execution_count": 22,
     "metadata": {},
     "output_type": "execute_result"
    }
   ],
   "source": [
    "def check_season(month):\n",
    "    if month in ['December', 'January', 'February']:\n",
    "        return 'Winter'\n",
    "    elif month in ['March', 'April', 'May']:\n",
    "        return 'Spring'\n",
    "    elif month in ['June', 'July', 'August']:\n",
    "        return 'Summer'\n",
    "    elif month in ['September', 'October', 'November']:\n",
    "        return 'Autumn'\n",
    "    else:\n",
    "        return 'Invalid month'\n",
    "\n",
    "month=input('enter a month to check if season :{\"Summer\"}')\n",
    "check_season(month)\n"
   ]
  },
  {
   "cell_type": "markdown",
   "metadata": {},
   "source": [
    "6. Write a function called calculate_slope which return the slope of a linear equation"
   ]
  },
  {
   "cell_type": "code",
   "execution_count": 20,
   "metadata": {},
   "outputs": [
    {
     "name": "stdout",
     "output_type": "stream",
     "text": [
      "1.0\n",
      "Slope is undefined (vertical line)\n"
     ]
    }
   ],
   "source": [
    "def calculate_slope(x1, y1, x2, y2):\n",
    "    if x1 == x2:\n",
    "        return \"Slope is undefined (vertical line)\"\n",
    "    slope = (y2 - y1) / (x2 - x1)\n",
    "    return slope\n",
    "\n",
    "print(calculate_slope(1, 2, 3, 4))  # Output: 1.0\n",
    "print(calculate_slope(1, 2, 1, 5))  # Output: Slope is undefined (vertical line)"
   ]
  },
  {
   "cell_type": "code",
   "execution_count": 50,
   "metadata": {},
   "outputs": [
    {
     "name": "stdout",
     "output_type": "stream",
     "text": [
      "the slope is equal to 1.0.\n"
     ]
    }
   ],
   "source": [
    "def  calculate_slope (x1,x2,y1,y2):\n",
    "    slope=(y2-y1)/(x2-x1)\n",
    "    return slope\n",
    "print(f'the slope is equal to {calculate_slope(1,2,3,4)}.')"
   ]
  },
  {
   "cell_type": "markdown",
   "metadata": {},
   "source": [
    "7. Quadratic equation is calculated as follows: ax² + bx + c = 0. Write a function which calculates solution set of a quadratic equation, solve_quadratic_eqn."
   ]
  },
  {
   "cell_type": "code",
   "execution_count": 26,
   "metadata": {},
   "outputs": [
    {
     "name": "stdout",
     "output_type": "stream",
     "text": [
      "(2.0, 1.0)\n",
      "(-1.0,)\n",
      "No real roots\n"
     ]
    }
   ],
   "source": [
    "import math\n",
    "\n",
    "def solve_quadratic_eqn(a, b, c):\n",
    "    discriminant = b**2 - 4*a*c\n",
    "    if discriminant > 0:\n",
    "        root1 = (-b + math.sqrt(discriminant)) / (2*a)\n",
    "        root2 = (-b - math.sqrt(discriminant)) / (2*a)\n",
    "        return (root1, root2)\n",
    "    elif discriminant == 0:\n",
    "        root = -b / (2*a)\n",
    "        return (root,)\n",
    "    else:\n",
    "        return \"No real roots\"\n",
    "\n",
    "print(solve_quadratic_eqn(1, -3, 2))  # Output: (2.0, 1.0)\n",
    "print(solve_quadratic_eqn(1, 2, 1))   # Output: (-1.0,)\n",
    "print(solve_quadratic_eqn(1, 0, 1))   # Output: No real roots"
   ]
  },
  {
   "cell_type": "code",
   "execution_count": 27,
   "metadata": {},
   "outputs": [],
   "source": [
    "def solve_quadratic_eqn(a,b,c):\n",
    "    B_insqrt = (((b**2)- (4*(a*b)))**(1/7))\n",
    "    x1 =(-(b) + B_insqrt)/(2*a)\n",
    "    x2 =((-b)-B_insqrt)/(2*a)\n",
    "    print('The first value of x is: ' , x1)\n",
    "    print('The second value of x is :' ,x2)\n",
    "\n",
    "    a=int(input('enter the coefficient of x^2'))\n",
    "    b= int(input('enter the coefficient of x'))\n",
    "    c= int(input('enter the value of c'))\n",
    "    solve_quadratic_eqn(a,b,c)"
   ]
  },
  {
   "cell_type": "markdown",
   "metadata": {},
   "source": [
    "8. Declare a function named print_list. It takes a list as a parameter and it prints out each element of the list"
   ]
  },
  {
   "cell_type": "code",
   "execution_count": 6,
   "metadata": {},
   "outputs": [
    {
     "name": "stdout",
     "output_type": "stream",
     "text": [
      "1\n",
      "2\n",
      "3\n",
      "4\n"
     ]
    }
   ],
   "source": [
    "def print_list(lst):\n",
    "    for element in lst:\n",
    "        print(element)\n",
    "sample_list=[1, 2, 3, 4]\n",
    "print_list(sample_list)\n"
   ]
  },
  {
   "cell_type": "markdown",
   "metadata": {},
   "source": [
    "9. Declare a function named reverse_list. It takes an array as a parameter and it returns the reverse of the array (use loops).\n",
    "``` python\n",
    "print(reverse_list([1, 2, 3, 4, 5]))\n",
    "# [5, 4, 3, 2, 1]\n",
    "print(reverse_list1([\"A\", \"B\", \"C\"]))\n",
    "# [\"C\", \"B\", \"A\"]\n",
    "```"
   ]
  },
  {
   "cell_type": "code",
   "execution_count": 28,
   "metadata": {},
   "outputs": [
    {
     "name": "stdout",
     "output_type": "stream",
     "text": [
      "[5, 4, 3, 2, 1]\n",
      "['C', 'B', 'A']\n"
     ]
    }
   ],
   "source": [
    "def reverse_list(lst):\n",
    "    reversed_lst_=[]\n",
    "    length=len(lst)\n",
    "    while length > 0:\n",
    "        reversed_lst_.append(lst[length -1])\n",
    "        length = length - 1\n",
    "    return reversed_lst_\n",
    "\n",
    "print(reverse_list([1, 2, 3, 4, 5]))\n",
    "print(reverse_list(['A', 'B' ,'C']))"
   ]
  },
  {
   "cell_type": "markdown",
   "metadata": {},
   "source": [
    "10. Declare a function named capitalize_list_items. It takes a list as a parameter and it returns a capitalized list of items"
   ]
  },
  {
   "cell_type": "code",
   "execution_count": 10,
   "metadata": {},
   "outputs": [
    {
     "name": "stdout",
     "output_type": "stream",
     "text": [
      "['APPLE', 'BANANA', 'ORANGE']\n"
     ]
    }
   ],
   "source": [
    "# a A function that takes list as a parameter and returns a capitalized list of items\n",
    "def capitalize_list_items(item_lst):\n",
    "    return[item.upper() for item in item_lst]\n",
    "\n",
    "items_list=['apple','banana', 'orange' ]\n",
    "print(capitalize_list_items(items_list))"
   ]
  },
  {
   "cell_type": "markdown",
   "metadata": {},
   "source": [
    "Declare a function named add_item. It takes a list and an item parameters. It returns a list with the item added at the end.\n",
    "``` python\n",
    "food_staff = ['Potato', 'Tomato', 'Mango', 'Milk']\n",
    "print(add_item(food_staff, 'Meat'))     # ['Potato', 'Tomato', 'Mango', 'Milk','Meat']\n",
    "numbers = [2, 3, 7, 9]\n",
    "print(add_item(numbers, 5))      [2, 3, 7, 9, 5]\n",
    "```"
   ]
  },
  {
   "cell_type": "code",
   "execution_count": 14,
   "metadata": {},
   "outputs": [
    {
     "name": "stdout",
     "output_type": "stream",
     "text": [
      "['Potato', 'Tomato', 'Mango', 'Milk', 'Meat']\n",
      "[2, 3, 7, 9, 5]\n"
     ]
    }
   ],
   "source": [
    "def add_item(lst, item):\n",
    "    lst.append(item)\n",
    "    return lst\n",
    "\n",
    "food_staff = ['Potato', 'Tomato', 'Mango', 'Milk']\n",
    "print(add_item(food_staff, 'Meat')) \n",
    "numbers = [2, 3, 7, 9]\n",
    "print(add_item(numbers, 5))  "
   ]
  },
  {
   "cell_type": "markdown",
   "metadata": {},
   "source": [
    "12. Declare a function named remove_item. It takes a list and an item parameters. It returns a list with the item removed from it.\n",
    "``` python\n",
    "food_staff = ['Potato', 'Tomato', 'Mango', 'Milk']\n",
    "print(remove_item(food_staff, 'Mango'))  # ['Potato', 'Tomato', 'Milk'];\n",
    "numbers = [2, 3, 7, 9]\n",
    "print(remove_item(numbers, 3))  # [2, 7, 9]\n",
    "```"
   ]
  },
  {
   "cell_type": "code",
   "execution_count": 15,
   "metadata": {},
   "outputs": [
    {
     "name": "stdout",
     "output_type": "stream",
     "text": [
      "['Potato', 'Tomato', 'Milk']\n",
      "[2, 7, 9]\n"
     ]
    }
   ],
   "source": [
    "def remove_item(lst, item):\n",
    "    lst.remove(item)\n",
    "    return lst\n",
    "\n",
    "food_staff=['Potato', 'Tomato', 'Mango', 'Milk']\n",
    "print(remove_item(food_staff, 'Mango'))\n",
    "numbers=[2, 3, 7, 9]\n",
    "print(remove_item(numbers, 3))"
   ]
  },
  {
   "cell_type": "markdown",
   "metadata": {},
   "source": [
    "13. Declare a function named sum_of_numbers. It takes a number parameter and it adds all the numbers in that range.\n",
    " ``` python\n",
    " print(sum_of_numbers(5))  # 15\n",
    "print(sum_of_numbers(10)) # 55\n",
    "print(sum_of_numbers(100)) # 5050\n",
    "```\n"
   ]
  },
  {
   "cell_type": "code",
   "execution_count": 31,
   "metadata": {},
   "outputs": [
    {
     "name": "stdout",
     "output_type": "stream",
     "text": [
      "15\n",
      "55\n",
      "5050\n"
     ]
    }
   ],
   "source": [
    "def sum_of_numbers(n):\n",
    "    sum = 0\n",
    "    for i in range(n +1):\n",
    "        sum += i\n",
    "    return sum\n",
    "\n",
    "print(sum_of_numbers(5))  #15\n",
    "print(sum_of_numbers(10))   #55\n",
    "print(sum_of_numbers(100))   #5050"
   ]
  },
  {
   "cell_type": "markdown",
   "metadata": {},
   "source": [
    "16. Declare a function named sum_of_odds. It takes a number parameter and it adds all the odd numbers in that range."
   ]
  },
  {
   "cell_type": "code",
   "execution_count": 49,
   "metadata": {},
   "outputs": [
    {
     "name": "stdout",
     "output_type": "stream",
     "text": [
      "the sum of all odds numbers from 0 to 5 is 9.\n"
     ]
    }
   ],
   "source": [
    "def sum_of_odds(n):\n",
    "    return sum(i for i in range (1, n + 1) if i % 2 !=0)\n",
    "print(f'the sum of all odds numbers from 0 to 5 is {sum_of_odds(5)}.')\n"
   ]
  },
  {
   "cell_type": "markdown",
   "metadata": {},
   "source": [
    "15. Declare a function named sum_of_even. It takes a number parameter and it adds all the even numbers in that - range."
   ]
  },
  {
   "cell_type": "code",
   "execution_count": 48,
   "metadata": {},
   "outputs": [
    {
     "name": "stdout",
     "output_type": "stream",
     "text": [
      "the sum of all even numbers from 0 to eight is 20.\n"
     ]
    }
   ],
   "source": [
    "def sum_of_even(n):\n",
    "    return sum(i for i in range (1, n + 1)\n",
    "                if i % 2==0)\n",
    "print(f'the sum of all even numbers from 0 to eight is {sum_of_even(8)}.')"
   ]
  },
  {
   "cell_type": "code",
   "execution_count": 47,
   "metadata": {},
   "outputs": [
    {
     "name": "stdout",
     "output_type": "stream",
     "text": [
      "the sum of all even numbers  from o to eight is 0.\n"
     ]
    }
   ],
   "source": [
    "def sum_of_even(n):\n",
    "    sum = 0\n",
    "    for i in range ( 0,n + 1, 2):\n",
    "        sum += i\n",
    "        return sum\n",
    "print(f\"the sum of all even numbers  from o to eight is {sum_of_even(8)}.\")"
   ]
  },
  {
   "cell_type": "markdown",
   "metadata": {},
   "source": [
    "# Exercises: Level 2\n"
   ]
  },
  {
   "cell_type": "markdown",
   "metadata": {},
   "source": [
    "1. Declare a function named evens_and_odds . It takes a positive integer as parameter and it counts number of evens and odds in the number.\n",
    "``` python\n",
    "    print(evens_and_odds(100))\n",
    "    # The number of odds are 50.\n",
    "    # The number of evens are 51.\n",
    "```"
   ]
  },
  {
   "cell_type": "code",
   "execution_count": 27,
   "metadata": {},
   "outputs": [
    {
     "name": "stdout",
     "output_type": "stream",
     "text": [
      "(51, 50)\n",
      "the number of odd are 50.\n",
      "the number of even are 51.\n"
     ]
    }
   ],
   "source": [
    "def evens_and_odds(n):\n",
    "     evens=sum(1 for i in range (n + 1 )if i % 2==0)\n",
    "     odds=n + 1 - evens\n",
    "     return evens, odds\n",
    "print( evens_and_odds(100))\n",
    "print(f\"the number of odd are {odds}.\")\n",
    "print(f\"the number of even are {evens}.\")"
   ]
  },
  {
   "cell_type": "code",
   "execution_count": 61,
   "metadata": {},
   "outputs": [],
   "source": [
    "def evens_and_odds(n):\n",
    "  No_of_odds=[]\n",
    "  No_of_evens=[]\n",
    "  odds=len(No_of_odds)\n",
    "  evens=len(No_of_evens)\n",
    "  for i in range (n + 1):\n",
    "    if i % 2==0:\n",
    "        No_of_evens.append(i)\n",
    "    else:\n",
    "        No_of_odds.append(i)\n",
    "        odds=len(No_of_odds)\n",
    "        evens=len(No_of_evens)\n",
    "        print(evens_and_odds(100))\n",
    "        print(f'the number of odds are{odds}.')\n",
    "        print(f'the number of evens are {evens}.')\n",
    "        "
   ]
  },
  {
   "cell_type": "markdown",
   "metadata": {},
   "source": [
    "2. Call your function factorial, it takes a whole number as a parameter and it return a factorial of the numbe"
   ]
  },
  {
   "cell_type": "code",
   "execution_count": 69,
   "metadata": {},
   "outputs": [
    {
     "name": "stdout",
     "output_type": "stream",
     "text": [
      " the factorial of 5 is 120.\n",
      "the factorial of 7 is 5040.\n"
     ]
    }
   ],
   "source": [
    "def factorial(n):\n",
    "    if n == 0:\n",
    "        return 1\n",
    "    else:\n",
    "        return n * factorial(n - 1)\n",
    "\n",
    "\n",
    "print(f' the factorial of 5 is {factorial(5)}.')  \n",
    "print(f'the factorial of 7 is {factorial(7)}.')  "
   ]
  },
  {
   "cell_type": "markdown",
   "metadata": {},
   "source": [
    "3. Call your function is_empty, it takes a parameter and it checks if it is empty or not3. "
   ]
  },
  {
   "cell_type": "code",
   "execution_count": 75,
   "metadata": {},
   "outputs": [
    {
     "name": "stdout",
     "output_type": "stream",
     "text": [
      "To check if names is empty: there is no single thing inside.\n"
     ]
    }
   ],
   "source": [
    "def is_empty(x):\n",
    "    if len(x) == 0:\n",
    "        is_it_empty = 'there is no single thing inside'\n",
    "    else:\n",
    "        is_it_empty = 'it is not empty'\n",
    "    return is_it_empty\n",
    "\n",
    "names = ()\n",
    "print(f'To check if names is empty: {is_empty(names)}.')"
   ]
  },
  {
   "cell_type": "markdown",
   "metadata": {},
   "source": [
    "3. Write different functions which take lists. They should calculate_mean, calculate_median, calculate_mode, calculate_range, calculate_variance, calculate_std (standard deviation)."
   ]
  },
  {
   "cell_type": "code",
   "execution_count": null,
   "metadata": {},
   "outputs": [
    {
     "name": "stdout",
     "output_type": "stream",
     "text": [
      "Mean: 4.2\n",
      "Median: 4\n",
      "Mode: [1]\n",
      "Range: 8\n",
      "Variance: 7.171428571428572\n",
      "Standard Deviation: 2.6779523094014523\n"
     ]
    }
   ],
   "source": [
    "from statistics import mean, median, mode, variance\n",
    "import math\n",
    "\n",
    "# function to calculate mean\n",
    "def calculate_mean(x):\n",
    "    mean = sum(x) / len(x)\n",
    "    return mean\n",
    "\n",
    "\n",
    "# function to calculate median\n",
    "def calculate_median(x):\n",
    "    x.sort()\n",
    "    n = len(x)\n",
    "    if n % 2 == 1:\n",
    "        median = x[n // 2]\n",
    "    else:\n",
    "        median = (x[n // 2] + x[n // 2 - 1]) / 2\n",
    "    return median\n",
    "\n",
    "# function to calculate mode\n",
    "\n",
    "def calculate_mode(x):\n",
    "    y = {}\n",
    "    for i in x:\n",
    "        if i in y:\n",
    "            y[i] += 1\n",
    "        else:\n",
    "            y[i] = 1\n",
    "    return [m for m in y.keys() if y[m] == max(y.values())]\n",
    "\n",
    "#f function to calculate range\n",
    "def calculate_range(x):\n",
    "    x.sort()\n",
    "    return x[-1] - x[0]\n",
    "\n",
    "#function to calculate variance\n",
    "def calculate_variance(x):\n",
    "    mean = calculate_mean(x)\n",
    "    squared_differences = [(i - mean) ** 2 for i in x]\n",
    "    variance = sum(squared_differences) / (len(x) - 1)  # For sample variance\n",
    "    return variance\n",
    "\n",
    "# function to calculate standard deviation\n",
    "def calculate_std(x):\n",
    "    std = calculate_variance(x) ** 0.5\n",
    "    return std\n",
    "\n",
    "list_no = [2, 7, 9, 3, 7, 5, 2, 3, 1, 4, 1, 1, 8, 6, 4]\n",
    "print(\"Mean:\", calculate_mean(list_no))\n",
    "print(\"Median:\", calculate_median(list_no))\n",
    "print(\"Mode:\", calculate_mode(list_no))\n",
    "print(\"Range:\", calculate_range(list_no))\n",
    "print(\"Variance:\", calculate_variance(list_no))\n",
    "print(\"Standard Deviation:\", calculate_std(list_no))\n"
   ]
  },
  {
   "cell_type": "markdown",
   "metadata": {},
   "source": [
    "# Exercise: level 3"
   ]
  },
  {
   "cell_type": "markdown",
   "metadata": {},
   "source": [
    "1. Write a function called is_prime, which checks if a number is prime."
   ]
  },
  {
   "cell_type": "code",
   "execution_count": 9,
   "metadata": {},
   "outputs": [
    {
     "name": "stdout",
     "output_type": "stream",
     "text": [
      "lets check if 6 is_prime? True.\n",
      "is 4 a prime ? True.\n",
      "True\n"
     ]
    }
   ],
   "source": [
    "def is_prime(n):\n",
    "    for i in range(2, n):\n",
    "        if n % i == 0:\n",
    "            prime_check= False\n",
    "    else:\n",
    "        prime_check=True\n",
    "        return prime_check\n",
    "    \n",
    "\n",
    "print(f'lets check if 6 is_prime? {is_prime(6)}.')\n",
    "print(f'is 4 a prime ? {is_prime(4)}.')  \n",
    "print(is_prime(17)) "
   ]
  },
  {
   "cell_type": "markdown",
   "metadata": {},
   "source": [
    "2. Write a functions which checks if all items are unique in the list."
   ]
  },
  {
   "cell_type": "code",
   "execution_count": 36,
   "metadata": {},
   "outputs": [
    {
     "name": "stdout",
     "output_type": "stream",
     "text": [
      "Are all items in the list unique? None .\n"
     ]
    }
   ],
   "source": [
    "def all_unique(x):\n",
    "    if len(x) == len(set(x)):\n",
    "        is_unique=True\n",
    "    else:\n",
    "        is_unique=False\n",
    "        return is_unique\n",
    "\n",
    "check=['I', 'am', 'a', 'student']\n",
    "print(f'Are all items in the list unique? {all_unique(check)} .')  \n",
    "\n"
   ]
  },
  {
   "cell_type": "markdown",
   "metadata": {},
   "source": [
    "3. Write a function which checks if all the items of the list are of the same data type"
   ]
  },
  {
   "cell_type": "code",
   "execution_count": 35,
   "metadata": {},
   "outputs": [
    {
     "name": "stdout",
     "output_type": "stream",
     "text": [
      "Are all items in the first list the same data type?\n",
      "No\n",
      "Are all items in the second list the same data type?\n",
      "Yes\n"
     ]
    }
   ],
   "source": [
    "def check_list(x):\n",
    "    if all(type(i) == type(x[0]) for i in x):\n",
    "        print(\"Yes\")\n",
    "    else:\n",
    "        print(\"No\")\n",
    "\n",
    "list1 = ['a', 2, 'G', 3]\n",
    "list2 = [2, 1, 8, 2]\n",
    "\n",
    "print(\"Are all items in the first list the same data type?\")\n",
    "check_list(list1)\n",
    "\n",
    "print(\"Are all items in the second list the same data type?\")\n",
    "check_list(list2)\n"
   ]
  },
  {
   "cell_type": "markdown",
   "metadata": {},
   "source": [
    "4. Write a function which check if provided variable is a valid python variable"
   ]
  },
  {
   "cell_type": "code",
   "execution_count": 34,
   "metadata": {},
   "outputs": [
    {
     "name": "stdout",
     "output_type": "stream",
     "text": [
      "Is \"5e\" a valid variable name? False\n"
     ]
    }
   ],
   "source": [
    "def variable_validity(x):\n",
    "    # Check if the variable name is valid\n",
    "    if x.isidentifier():\n",
    "        validity = True\n",
    "    else:\n",
    "        validity = False\n",
    "    return validity\n",
    "\n",
    "# Test the function\n",
    "e = '5e'\n",
    "print(f'Is \"{e}\" a valid variable name? {variable_validity(e)}')\n"
   ]
  },
  {
   "cell_type": "markdown",
   "metadata": {},
   "source": [
    "1. Go to the data folder and access the [countries](data/countries-data.py) files"
   ]
  },
  {
   "cell_type": "markdown",
   "metadata": {},
   "source": [
    "2. Create a function called the most_spoken_languages in the world. It should return 10 or 20 most spoken languages in the world in descending order"
   ]
  },
  {
   "cell_type": "code",
   "execution_count": 37,
   "metadata": {},
   "outputs": [
    {
     "ename": "IndentationError",
     "evalue": "expected an indented block after function definition on line 2 (4203832411.py, line 5)",
     "output_type": "error",
     "traceback": [
      "\u001b[1;36m  Cell \u001b[1;32mIn[37], line 5\u001b[1;36m\u001b[0m\n\u001b[1;33m    languages=[]\u001b[0m\n\u001b[1;37m    ^\u001b[0m\n\u001b[1;31mIndentationError\u001b[0m\u001b[1;31m:\u001b[0m expected an indented block after function definition on line 2\n"
     ]
    }
   ],
   "source": [
    "from country_data import countries_data\n",
    "def most_spoken_language():\n",
    "\n",
    "# looping to get dict of languages\n",
    "languages=[]\n",
    "for i in range (len(countries_data)):\n",
    "    languages.extend(countries_data[i](languages))\n",
    "\n",
    "    lang={}\n",
    "    for language in languages:\n",
    "        lang[languages]=lang.get(languages,0)+ 1\n",
    "\n",
    "        sorted_lang=sorted(lang.items(), key=lambda x:x[1], reverse=True)\n",
    "        sorted_lang\n",
    "        top_ten=[]\n",
    "        for i in range (100):\n",
    "            top_ten.append(sorted_lang[i])\n",
    "            return top_ten\n",
    "        \n",
    "        print(f'Ten most spoken languages: {most_spoken_language()}')\n",
    "\n",
    "\n",
    "def most_populated_countries()\n",
    "    population={}\n",
    "    for in range(len(countries_data)):\n",
    "        keys = countries_data[i]['name']\n",
    "    values = countries_data[i]['population']\n",
    "    population[keys]=values\n",
    "    sorted_pop= sorted(population.items(), keys=lambda x:x[1] reverse=True)\n",
    "\n",
    "    most_pop=[]\n",
    "    for in range(10):\n",
    "        most_pop.append(sorted_pop[i][0])\n",
    "        return most_pop\n",
    "    print(f'Ten most populated countries: {most_populated_countries()}')\n",
    " "
   ]
  }
 ],
 "metadata": {
  "kernelspec": {
   "display_name": "Python 3",
   "language": "python",
   "name": "python3"
  },
  "language_info": {
   "codemirror_mode": {
    "name": "ipython",
    "version": 3
   },
   "file_extension": ".py",
   "mimetype": "text/x-python",
   "name": "python",
   "nbconvert_exporter": "python",
   "pygments_lexer": "ipython3",
   "version": "3.13.1"
  }
 },
 "nbformat": 4,
 "nbformat_minor": 2
}
