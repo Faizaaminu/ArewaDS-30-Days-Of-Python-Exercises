{
 "cells": [
  {
   "cell_type": "markdown",
   "metadata": {},
   "source": [
    "# Module 3\n",
    "## (Operators)"
   ]
  },
  {
   "cell_type": "markdown",
   "metadata": {},
   "source": [
    "# Exercises"
   ]
  },
  {
   "cell_type": "markdown",
   "metadata": {},
   "source": [
    "\n",
    "1. Declare your age as integer\n",
    "2. Declare your height as a float variable\n",
    "3. Declare a variable that store a complex number"
   ]
  },
  {
   "cell_type": "code",
   "execution_count": 1,
   "metadata": {},
   "outputs": [],
   "source": [
    "age=25  #integer\n",
    "height=5.9   #float\n",
    "complex=3+4j   #complex\n",
    "\n",
    "\n"
   ]
  },
  {
   "cell_type": "markdown",
   "metadata": {},
   "source": [
    "4. Write a script that prompt the user to enter base and height of the triangle and calculate an area of this triangle(area=0.5xbxh)\n",
    "     ``` python\n",
    "      Enter base: 20\n",
    "    Enter height: 10\n",
    "    The area of the triangle is 100\n",
    "    ```\n",
    "\n",
    "\n"
   ]
  },
  {
   "cell_type": "code",
   "execution_count": 1,
   "metadata": {},
   "outputs": [
    {
     "name": "stdout",
     "output_type": "stream",
     "text": [
      "The area of the triangle is 100.0\n"
     ]
    }
   ],
   "source": [
    "base = int(input(\"Enter the base of the triangle: \"))\n",
    "height = int(input(\"Enter the height of the triangle: \"))\n",
    "\n",
    "# Calculate the area\n",
    "area = 0.5 * base * height\n",
    "\n",
    "# Print the result\n",
    "print(f\"The area of the triangle is {area}\")\n"
   ]
  },
  {
   "cell_type": "markdown",
   "metadata": {},
   "source": [
    "5. Write a script that prompt the user to enter side a,side b,and side c of the triangle.\n",
    "- calculate the perimeter of the triangle(perimeter=a+b+c).\n",
    " ``` python\n",
    "  Enter side a: 5\n",
    "Enter side b: 4\n",
    "Enter side c: 3\n",
    "The perimeter of the triangle is 12\n",
    "```\n",
    " \n",
    "  "
   ]
  },
  {
   "cell_type": "code",
   "execution_count": 2,
   "metadata": {},
   "outputs": [
    {
     "name": "stdout",
     "output_type": "stream",
     "text": [
      "perimeter of triangle is 12\n"
     ]
    }
   ],
   "source": [
    "a=int(input(\"Enter side a: \"))\n",
    "b=int(input(\"Enter side b: \"))\n",
    "c=int(input(\"Enter side c:\"))\n",
    "perimeter_of_triangle=a+b+c\n",
    "print(f\"perimeter of triangle is {perimeter_of_triangle}\")"
   ]
  },
  {
   "cell_type": "markdown",
   "metadata": {},
   "source": [
    "6. Get length and width of a rectangle using prompt.\n",
    "- Calculate its area(area=length x width) and perimeter(perimeter=2 x(length + width))\n",
    "  ``` python\n",
    "  Enter length:5\n",
    "  Enter width:3\n",
    "  ```\n",
    "\n"
   ]
  },
  {
   "cell_type": "code",
   "execution_count": 3,
   "metadata": {},
   "outputs": [
    {
     "name": "stdout",
     "output_type": "stream",
     "text": [
      "area of rectangle is 20\n",
      "perimeter of rectangle is 18\n"
     ]
    }
   ],
   "source": [
    "length=int(input(\"Enter length of rectangle:\"))\n",
    "width=int(input(\"Enter width of rectangle:\"))\n",
    "area_of_rectangle=length*width\n",
    "perimeter_of_rectangle=2*(length+width)\n",
    "print(f\"area of rectangle is {area_of_rectangle}\")\n",
    "print(f\"perimeter of rectangle is {perimeter_of_rectangle}\")\n"
   ]
  },
  {
   "cell_type": "markdown",
   "metadata": {},
   "source": [
    "7. Get radius of a circle using prompt.\n",
    "* Calculate the area (area=pi x r x r) and circumference (c=2 x pi x r) where pi=3.14\n",
    "  ``` python\n",
    "  Enter radius:7"
   ]
  },
  {
   "cell_type": "code",
   "execution_count": 4,
   "metadata": {},
   "outputs": [
    {
     "name": "stdout",
     "output_type": "stream",
     "text": [
      "area_of_cicle is 153.86\n",
      "circumference of circle is 43.96\n"
     ]
    }
   ],
   "source": [
    "#Get radius of cicle from the user\n",
    "radius=int(input(\"Enter radius of circle:\"))\n",
    "\n",
    "#calculate area and circumference of circle\n",
    "area_of_circle=3.14*radius*radius\n",
    "circumference_of_circle=2*3.14*radius\n",
    "\n",
    "#print  the result\n",
    "print(f\"area_of_cicle is {area_of_circle}\")\n",
    "print(f\"circumference of circle is {circumference_of_circle}\")"
   ]
  },
  {
   "cell_type": "markdown",
   "metadata": {},
   "source": [
    "8. Calculate the slope, x-intercept and y-intercept of y=2x-2"
   ]
  },
  {
   "cell_type": "code",
   "execution_count": 5,
   "metadata": {},
   "outputs": [
    {
     "name": "stdout",
     "output_type": "stream",
     "text": [
      "Slope: 2\n",
      "Y-intercept: -2\n",
      "X-intercept: 1.0\n"
     ]
    }
   ],
   "source": [
    "# Define the equation parameters\n",
    "slope = 2\n",
    "y_intercept = -2\n",
    "\n",
    "# Calculate the x-intercept\n",
    "# At the x-intercept, y = 0\n",
    "x_intercept = -y_intercept / slope\n",
    "\n",
    "# Print the results\n",
    "print(f\"Slope: {slope}\")\n",
    "print(f\"Y-intercept: {y_intercept}\")\n",
    "print(f\"X-intercept: {x_intercept}\")"
   ]
  },
  {
   "cell_type": "markdown",
   "metadata": {},
   "source": [
    "9. Slope is(m=y2-y1/x2-x1).Find the slope and Euclidean distance between point(2,2)and point(6,10)"
   ]
  },
  {
   "cell_type": "code",
   "execution_count": 7,
   "metadata": {},
   "outputs": [
    {
     "name": "stdout",
     "output_type": "stream",
     "text": [
      "Slope: 2.0\n",
      "Euclidean distance: 8.94427190999916\n"
     ]
    }
   ],
   "source": [
    "import math\n",
    "\n",
    "# Define the points\n",
    "x1, y1 = 2, 2\n",
    "x2, y2 = 6, 10\n",
    "\n",
    "# Calculate the slope\n",
    "slope = (y2 - y1) / (x2 - x1)\n",
    "\n",
    "# Calculate the Euclidean distance\n",
    "distance = math.sqrt((x2 - x1)**2 + (y2 - y1)**2)\n",
    "\n",
    "# Print the results\n",
    "print(f\"Slope: {slope}\")\n",
    "print(f\"Euclidean distance: {distance}\")"
   ]
  },
  {
   "cell_type": "markdown",
   "metadata": {},
   "source": [
    "10. Compare the slope in task 8 and 9"
   ]
  },
  {
   "cell_type": "code",
   "execution_count": 8,
   "metadata": {},
   "outputs": [
    {
     "name": "stdout",
     "output_type": "stream",
     "text": [
      "The slopes are equal.\n"
     ]
    }
   ],
   "source": [
    "# Slope from task 8\n",
    "slope_task_8 = 2\n",
    "\n",
    "# Slope from task 9 is already stored in the variable 'slope'\n",
    "slope_task_9 = slope\n",
    "\n",
    "# Compare the slopes\n",
    "if slope_task_8 == slope_task_9:\n",
    "    print(\"The slopes are equal.\")\n",
    "else:\n",
    "    print(\"The slopes are not equal.\")"
   ]
  },
  {
   "cell_type": "markdown",
   "metadata": {},
   "source": [
    "11. Calculate the value of y(y=x^2 + 6x + 9). Try to use different x values and figure out at what x value y is going to be 0."
   ]
  },
  {
   "cell_type": "code",
   "execution_count": 9,
   "metadata": {},
   "outputs": [
    {
     "name": "stdout",
     "output_type": "stream",
     "text": [
      "For x = -10, y = 49\n",
      "For x = -9, y = 36\n",
      "For x = -8, y = 25\n",
      "For x = -7, y = 16\n",
      "For x = -6, y = 9\n",
      "For x = -5, y = 4\n",
      "For x = -4, y = 1\n",
      "For x = -3, y = 0\n",
      "y is zero at x = -3\n"
     ]
    }
   ],
   "source": [
    "# Define the function\n",
    "def calculate_y(x):\n",
    "    return x**2 + 6*x + 9\n",
    "\n",
    "# Try different x values\n",
    "x_values=range(-10,11)\n",
    "for x in x_values:\n",
    "    y = calculate_y(x)\n",
    "    print(f\"For x = {x}, y = {y}\")\n",
    "    if y == 0:\n",
    "        print(f\"y is zero at x = {x}\")\n",
    "        break"
   ]
  },
  {
   "cell_type": "markdown",
   "metadata": {},
   "source": [
    "12. Find the length of 'python' and 'dragon' and make a falsy comparison statement"
   ]
  },
  {
   "cell_type": "code",
   "execution_count": 10,
   "metadata": {},
   "outputs": [
    {
     "name": "stdout",
     "output_type": "stream",
     "text": [
      "Length of 'python': 6\n",
      "Length of 'dragon': 6\n",
      "Is the length of 'python' not equal to the length of 'dragon'? False\n"
     ]
    }
   ],
   "source": [
    "p = 'python'\n",
    "d = 'dragon'\n",
    "\n",
    "# Find the lengths\n",
    "length_p = len(p)\n",
    "length_d = len(d)\n",
    "\n",
    "# Print the lengths\n",
    "print(f\"Length of 'python': {length_p}\")\n",
    "print(f\"Length of 'dragon': {length_d}\")\n",
    "\n",
    "# Falsy comparison statement\n",
    "print(f\"Is the length of 'python' not equal to the length of 'dragon'? {length_p != length_d}\")"
   ]
  },
  {
   "cell_type": "markdown",
   "metadata": {},
   "source": [
    "13. Use and operate to check if'on' is found in both 'python' and 'dragon'"
   ]
  },
  {
   "cell_type": "code",
   "execution_count": 11,
   "metadata": {},
   "outputs": [
    {
     "name": "stdout",
     "output_type": "stream",
     "text": [
      "Is 'on' in both 'python' and 'dragon'? True\n"
     ]
    }
   ],
   "source": [
    "# Check if 'on' is in both 'python' and 'dragon'\n",
    "is_on_in_both = 'on' in p and 'on' in d\n",
    "print(f\"Is 'on' in both 'python' and 'dragon'? {is_on_in_both}\")"
   ]
  },
  {
   "cell_type": "markdown",
   "metadata": {},
   "source": [
    "14. I hope this course is not full of jargon . Use in operator to check if jargon is in the sentence."
   ]
  },
  {
   "cell_type": "code",
   "execution_count": 13,
   "metadata": {},
   "outputs": [
    {
     "name": "stdout",
     "output_type": "stream",
     "text": [
      "Is 'jargon' in the sentence? True\n"
     ]
    }
   ],
   "source": [
    "sentence = \"I hope this course is not full of jargon\"\n",
    "is_jargon_in_sentence = 'jargon' in sentence\n",
    "print(f\"Is 'jargon' in the sentence? {is_jargon_in_sentence}\")"
   ]
  },
  {
   "cell_type": "markdown",
   "metadata": {},
   "source": [
    "15. There is no 'on' in both dragon and python"
   ]
  },
  {
   "cell_type": "code",
   "execution_count": 14,
   "metadata": {},
   "outputs": [
    {
     "name": "stdout",
     "output_type": "stream",
     "text": [
      " is 'on' not in both 'python and 'dragon'? False\n"
     ]
    }
   ],
   "source": [
    "#Check there is no'on' in both 'python' and 'dragon'\n",
    "is_on_in_both ='on' not in p and 'on' not in d\n",
    "print(f\" is 'on' not in both 'python and 'dragon'? {is_on_in_both}\")"
   ]
  },
  {
   "cell_type": "markdown",
   "metadata": {},
   "source": [
    "16. Find the length of the text python and convert the value to float and convert it to string."
   ]
  },
  {
   "cell_type": "code",
   "execution_count": 15,
   "metadata": {},
   "outputs": [
    {
     "name": "stdout",
     "output_type": "stream",
     "text": [
      "6\n",
      "6.0\n",
      "6.0\n"
     ]
    }
   ],
   "source": [
    "#length of text 'python' and convert to float and then to string\n",
    "text='python'\n",
    "print(len(text))\n",
    "convert=float(len(text))\n",
    "print(convert)\n",
    "print(str(convert))\n"
   ]
  },
  {
   "cell_type": "markdown",
   "metadata": {},
   "source": [
    "17. Even number are divisible  by 2 and the remainder is  zero. How do check if a number is even or is not using python ?"
   ]
  },
  {
   "cell_type": "code",
   "execution_count": 16,
   "metadata": {},
   "outputs": [
    {
     "name": "stdout",
     "output_type": "stream",
     "text": [
      " 4 is even\n"
     ]
    }
   ],
   "source": [
    "#check if a number is even or is not even \n",
    "number=int(input(\"Enter a number:\"))\n",
    "if number % 2 == 0:\n",
    "     print(f\" {number} is even\")\n",
    "else:\n",
    "     print(f\"{number}is not even\")\n",
    "    \n",
    "    "
   ]
  },
  {
   "cell_type": "markdown",
   "metadata": {},
   "source": [
    "18. Check if the floor division of 7 by 5 is equal to the int converted value of 2.7"
   ]
  },
  {
   "cell_type": "code",
   "execution_count": 17,
   "metadata": {},
   "outputs": [
    {
     "name": "stdout",
     "output_type": "stream",
     "text": [
      "True\n"
     ]
    }
   ],
   "source": [
    "print(7//3 == int(2.7))\n"
   ]
  },
  {
   "cell_type": "markdown",
   "metadata": {},
   "source": [
    "19. Check if type of '10' is equal type of 10."
   ]
  },
  {
   "cell_type": "code",
   "execution_count": 18,
   "metadata": {},
   "outputs": [
    {
     "name": "stdout",
     "output_type": "stream",
     "text": [
      "False\n"
     ]
    }
   ],
   "source": [
    "#if '10' is equal type of 10\n",
    "print(type('10')== type (10))"
   ]
  },
  {
   "cell_type": "markdown",
   "metadata": {},
   "source": [
    "20. Check if int('9.8') is equal to 10."
   ]
  },
  {
   "cell_type": "code",
   "execution_count": 19,
   "metadata": {},
   "outputs": [
    {
     "name": "stdout",
     "output_type": "stream",
     "text": [
      "False\n"
     ]
    }
   ],
   "source": [
    "#if int(;9.8) is equal to 10\n",
    "print(int(9.8)==10)"
   ]
  },
  {
   "cell_type": "markdown",
   "metadata": {},
   "source": [
    "21. Write a scipt that prompt the user to enter hours and rate per hour. Calculate pay of a person ?\n",
    " ``` python\n",
    "  Enter hours: 40\n",
    "Enter rate per hour: 28\n",
    "Your weekly earning is 1120\n",
    "```"
   ]
  },
  {
   "cell_type": "code",
   "execution_count": 20,
   "metadata": {},
   "outputs": [
    {
     "name": "stdout",
     "output_type": "stream",
     "text": [
      "Pay of the person is 1120.0\n"
     ]
    }
   ],
   "source": [
    "hours = int(input(\"Enter hours: \"))\n",
    "rate_per_hour = float(input(\"Enter rate per hour: \"))\n",
    "\n",
    "# Calculate the total pay\n",
    "pay = hours * rate_per_hour\n",
    "\n",
    "# Print the result\n",
    "print(f\"Pay of the person is {pay}\")"
   ]
  },
  {
   "cell_type": "markdown",
   "metadata": {},
   "source": [
    "22. Write a script that prompts the user to enter number of years. Calculate the number of second a person can live.Assume a person can live hundred year.\n",
    "``` python\n",
    " Enter number of years you have lived: 100\n",
    "You have lived for 3153600000 seconds. \n",
    "```  "
   ]
  },
  {
   "cell_type": "code",
   "execution_count": 21,
   "metadata": {},
   "outputs": [
    {
     "name": "stdout",
     "output_type": "stream",
     "text": [
      " you have  lived for 3153600000 seconds \n"
     ]
    }
   ],
   "source": [
    "years=int(input(\"Enter number of years:\"))\n",
    "\n",
    "#Calculate the number of second a person can live\n",
    "seconds_in_a_year=365*24*60*60\n",
    "total_seconds=years*seconds_in_a_year\n",
    "\n",
    "#print the result \n",
    "print(f\" you have  lived for {total_seconds} seconds \")\n"
   ]
  },
  {
   "cell_type": "markdown",
   "metadata": {},
   "source": [
    "23. Write a python script that display the following table.\n",
    " ``` python\n",
    "1 1 1 1 1\n",
    "2 1 2 4 8\n",
    "3 1 3 9 27\n",
    "4 1 4 16 64\n",
    "5 1 5 25 125\n",
    "```"
   ]
  },
  {
   "cell_type": "code",
   "execution_count": 22,
   "metadata": {},
   "outputs": [
    {
     "name": "stdout",
     "output_type": "stream",
     "text": [
      "1 1 1 1 1\n",
      "2 1 2 4 8\n",
      "3 1 3 9 27\n",
      "4 1 4 16 64\n",
      "5 1 5 25 125\n"
     ]
    }
   ],
   "source": [
    "display_table =['1 1 1 1 1','2 1 2 4 8','3 1 3 9 27','4 1 4 16 64','5 1 5 25 125']\n",
    "for item in display_table:\n",
    "    print(item)"
   ]
  }
 ],
 "metadata": {
  "kernelspec": {
   "display_name": "Python 3",
   "language": "python",
   "name": "python3"
  },
  "language_info": {
   "codemirror_mode": {
    "name": "ipython",
    "version": 3
   },
   "file_extension": ".py",
   "mimetype": "text/x-python",
   "name": "python",
   "nbconvert_exporter": "python",
   "pygments_lexer": "ipython3",
   "version": "3.13.1"
  }
 },
 "nbformat": 4,
 "nbformat_minor": 2
}
