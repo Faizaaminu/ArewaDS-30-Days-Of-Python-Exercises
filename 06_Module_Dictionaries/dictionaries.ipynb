{
 "cells": [
  {
   "cell_type": "markdown",
   "metadata": {},
   "source": [
    "# Module 6\n",
    "# Dictionaries\n",
    "## Exercises"
   ]
  },
  {
   "cell_type": "markdown",
   "metadata": {},
   "source": [
    "1. Create an empty dictionary called dog"
   ]
  },
  {
   "cell_type": "code",
   "execution_count": 18,
   "metadata": {},
   "outputs": [],
   "source": [
    "dog=dict()\n",
    "dog={}"
   ]
  },
  {
   "cell_type": "markdown",
   "metadata": {},
   "source": [
    "2. Add name, color, breed, legs, age to the dog dictionary"
   ]
  },
  {
   "cell_type": "code",
   "execution_count": 19,
   "metadata": {},
   "outputs": [
    {
     "name": "stdout",
     "output_type": "stream",
     "text": [
      "{'name': 'Buddy', 'color': 'Brown', 'breed': 'Labrador Retriever', 'legs': 4, 'age': 3}\n"
     ]
    }
   ],
   "source": [
    "dog['name'] = 'Buddy'\n",
    "dog['color'] = 'Brown'\n",
    "dog['breed'] = 'Labrador Retriever'\n",
    "dog['legs'] = 4\n",
    "dog['age'] = 3\n",
    "\n",
    "# Print result\n",
    "print(dog)\n"
   ]
  },
  {
   "cell_type": "markdown",
   "metadata": {},
   "source": [
    "3. Create a student dictionary and add first_name, last_name, gender, age, marital status, skills, country, city and address as keys for the dictionary"
   ]
  },
  {
   "cell_type": "code",
   "execution_count": 20,
   "metadata": {},
   "outputs": [
    {
     "name": "stdout",
     "output_type": "stream",
     "text": [
      "{'first_name': 'Ahmad', 'last_name': 'Abubakr', 'gender': 'Male', 'age': 22, 'marital_status': 'Single', 'skills': ['Python', 'Data Analysis', 'HTML'], 'country': 'Nigeria', 'city': 'Kaduna', 'address': 'lafia road'}\n"
     ]
    }
   ],
   "source": [
    "student = {\n",
    "    'first_name': 'Ahmad',\n",
    "    'last_name': 'Abubakr',\n",
    "    'gender': 'Male',\n",
    "    'age': 22,\n",
    "    'marital_status': 'Single',\n",
    "    'skills': ['Python', 'Data Analysis', 'HTML'],\n",
    "    'country': 'Nigeria',\n",
    "    'city': 'Kaduna',\n",
    "    'address': 'lafia road'\n",
    "}\n",
    "\n",
    "# Print result\n",
    "print(student)"
   ]
  },
  {
   "cell_type": "markdown",
   "metadata": {},
   "source": [
    "3. Get the length of the student dictionary"
   ]
  },
  {
   "cell_type": "code",
   "execution_count": 21,
   "metadata": {},
   "outputs": [
    {
     "name": "stdout",
     "output_type": "stream",
     "text": [
      "9\n"
     ]
    }
   ],
   "source": [
    "print(len(student))"
   ]
  },
  {
   "cell_type": "markdown",
   "metadata": {},
   "source": [
    "5. Get the value of skills and check the data type, it should be a list"
   ]
  },
  {
   "cell_type": "code",
   "execution_count": 22,
   "metadata": {},
   "outputs": [
    {
     "name": "stdout",
     "output_type": "stream",
     "text": [
      "['Python', 'Data Analysis', 'HTML']\n",
      "<class 'str'>\n"
     ]
    }
   ],
   "source": [
    "#getting the values of  the skills\n",
    "print(student.get('skills'))\n",
    "\n",
    "#check data type of the skills\n",
    "print(type('skills'))"
   ]
  },
  {
   "cell_type": "markdown",
   "metadata": {},
   "source": [
    "6. Modify the skills values by adding one or two skills"
   ]
  },
  {
   "cell_type": "code",
   "execution_count": 23,
   "metadata": {},
   "outputs": [
    {
     "name": "stdout",
     "output_type": "stream",
     "text": [
      "['Python', 'Data Analysis', 'HTML', 'JavaScript', 'CSS']\n"
     ]
    }
   ],
   "source": [
    "student['skills'].append('JavaScript')\n",
    "student['skills'].append('CSS')\n",
    "\n",
    "# Print result\n",
    "print(student['skills'])"
   ]
  },
  {
   "cell_type": "markdown",
   "metadata": {},
   "source": [
    "7. Get the dictionary keys as a list"
   ]
  },
  {
   "cell_type": "code",
   "execution_count": 24,
   "metadata": {},
   "outputs": [
    {
     "name": "stdout",
     "output_type": "stream",
     "text": [
      "dict_keys(['first_name', 'last_name', 'gender', 'age', 'marital_status', 'skills', 'country', 'city', 'address'])\n"
     ]
    }
   ],
   "source": [
    "print(student.keys())"
   ]
  },
  {
   "cell_type": "markdown",
   "metadata": {},
   "source": [
    "8. Get the dictionary values as a list"
   ]
  },
  {
   "cell_type": "code",
   "execution_count": 25,
   "metadata": {},
   "outputs": [
    {
     "name": "stdout",
     "output_type": "stream",
     "text": [
      "dict_values(['Ahmad', 'Abubakr', 'Male', 22, 'Single', ['Python', 'Data Analysis', 'HTML', 'JavaScript', 'CSS'], 'Nigeria', 'Kaduna', 'lafia road'])\n"
     ]
    }
   ],
   "source": [
    "print(student.values())"
   ]
  },
  {
   "cell_type": "markdown",
   "metadata": {},
   "source": [
    "9. Change the dictionary to a list of tuples using items() method"
   ]
  },
  {
   "cell_type": "code",
   "execution_count": 26,
   "metadata": {},
   "outputs": [
    {
     "name": "stdout",
     "output_type": "stream",
     "text": [
      "[('first_name', 'Ahmad'), ('last_name', 'Abubakr'), ('gender', 'Male'), ('age', 22), ('marital_status', 'Single'), ('skills', ['Python', 'Data Analysis', 'HTML', 'JavaScript', 'CSS']), ('country', 'Nigeria'), ('city', 'Kaduna'), ('address', 'lafia road')]\n"
     ]
    }
   ],
   "source": [
    "student_items = list(student.items())\n",
    "print(student_items)"
   ]
  },
  {
   "cell_type": "markdown",
   "metadata": {},
   "source": [
    "10. Delete one of the items in the dictionary"
   ]
  },
  {
   "cell_type": "code",
   "execution_count": 27,
   "metadata": {},
   "outputs": [
    {
     "data": {
      "text/plain": [
       "'Single'"
      ]
     },
     "execution_count": 27,
     "metadata": {},
     "output_type": "execute_result"
    }
   ],
   "source": [
    "student.pop('marital_status')"
   ]
  },
  {
   "cell_type": "markdown",
   "metadata": {},
   "source": [
    "11. Delete one of the  dictionary"
   ]
  },
  {
   "cell_type": "code",
   "execution_count": 28,
   "metadata": {},
   "outputs": [],
   "source": [
    "del student"
   ]
  }
 ],
 "metadata": {
  "kernelspec": {
   "display_name": "Python 3",
   "language": "python",
   "name": "python3"
  },
  "language_info": {
   "codemirror_mode": {
    "name": "ipython",
    "version": 3
   },
   "file_extension": ".py",
   "mimetype": "text/x-python",
   "name": "python",
   "nbconvert_exporter": "python",
   "pygments_lexer": "ipython3",
   "version": "3.13.1"
  }
 },
 "nbformat": 4,
 "nbformat_minor": 2
}
