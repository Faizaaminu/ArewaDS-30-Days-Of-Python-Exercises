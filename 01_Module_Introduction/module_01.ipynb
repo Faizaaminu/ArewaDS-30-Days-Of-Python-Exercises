{
 "cells": [
  {
   "cell_type": "markdown",
   "metadata": {},
   "source": [
    "# Introduction Module"
   ]
  },
  {
   "cell_type": "code",
   "execution_count": 4,
   "metadata": {},
   "outputs": [
    {
     "name": "stdout",
     "output_type": "stream",
     "text": [
      "hello world\n"
     ]
    }
   ],
   "source": [
    "print(\"hello world\")"
   ]
  },
  {
   "cell_type": "code",
   "execution_count": 2,
   "metadata": {},
   "outputs": [
    {
     "name": "stdout",
     "output_type": "stream",
     "text": [
      "5\n",
      "1\n",
      "6\n",
      "1.5\n",
      "1\n",
      "9\n",
      "1\n"
     ]
    }
   ],
   "source": [
    "#program to perform arithmetic operations\n",
    "#by using different operators\n",
    "\n",
    "\n",
    "print(3+2)   #addition(+)\n",
    "print(3-2) #subtraction(-)\n",
    "print(3*2) #multiplication(*)\n",
    "print(3/2)  #division(/)\n",
    "print(3//2) #floor division\n",
    "print(3**2) #exponential(**)\n",
    "print(3%2)  #modulus(%)\n"
   ]
  },
  {
   "cell_type": "markdown",
   "metadata": {},
   "source": [
    "# Checking data types"
   ]
  },
  {
   "cell_type": "code",
   "execution_count": 3,
   "metadata": {},
   "outputs": [
    {
     "name": "stdout",
     "output_type": "stream",
     "text": [
      "<class 'int'>\n",
      "<class 'float'>\n",
      "<class 'complex'>\n",
      "<class 'str'>\n",
      "<class 'list'>\n",
      "<class 'dict'>\n",
      "<class 'set'>\n",
      "<class 'tuple'>\n",
      "<class 'bool'>\n",
      "<class 'bool'>\n"
     ]
    }
   ],
   "source": [
    "#knowing data type of a variable\n",
    "\n",
    "print(type(10)) #integer\n",
    "print(type(3.14)) #float\n",
    "print(type(1+3j)) #complex\n",
    "print(type('Asabeneh')) #string\n",
    "print(type([1,2,3])) #list\n",
    "print(type({ 'name':'Asabeneh'})) #dictionaary\n",
    "print(type({9.8,3.14,2.7})) #set\n",
    "print(type((9.8,3.14,2.7))) #turple\n",
    "print(type(3==3)) #boolean\n",
    "print(type(3>=3)) #boolean\n"
   ]
  },
  {
   "cell_type": "code",
   "execution_count": null,
   "metadata": {},
   "outputs": [],
   "source": []
  }
 ],
 "metadata": {
  "kernelspec": {
   "display_name": "Python 3",
   "language": "python",
   "name": "python3"
  },
  "language_info": {
   "codemirror_mode": {
    "name": "ipython",
    "version": 3
   },
   "file_extension": ".py",
   "mimetype": "text/x-python",
   "name": "python",
   "nbconvert_exporter": "python",
   "pygments_lexer": "ipython3",
   "version": "3.13.1"
  }
 },
 "nbformat": 4,
 "nbformat_minor": 2
}
