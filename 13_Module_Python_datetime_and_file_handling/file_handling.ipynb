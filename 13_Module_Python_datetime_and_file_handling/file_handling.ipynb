{
 "cells": [
  {
   "cell_type": "markdown",
   "metadata": {},
   "source": [
    "# Module 13\n",
    "##   Python Datetime Exercises"
   ]
  },
  {
   "cell_type": "markdown",
   "metadata": {},
   "source": [
    "1. Get the current day, month, year, hour, minute and timestamp from datetime module"
   ]
  },
  {
   "cell_type": "code",
   "execution_count": 4,
   "metadata": {},
   "outputs": [
    {
     "name": "stdout",
     "output_type": "stream",
     "text": [
      "2025-01-26 21:30:50.197365\n",
      "26 1 2025 21 30\n",
      "timestamp 1737907250.197365\n",
      "26/1/2025, 21:30\n"
     ]
    }
   ],
   "source": [
    "from datetime import datetime\n",
    "now = datetime.now()\n",
    "print(now)                      # 2021-07-08 07:34:46.549883\n",
    "day = now.day                   # 8\n",
    "month = now.month               # 7\n",
    "year = now.year                 # 2021\n",
    "hour = now.hour                 # 7\n",
    "minute = now.minute             # 38\n",
    "second = now.second\n",
    "timestamp = now.timestamp()\n",
    "print(day, month, year, hour, minute)\n",
    "print('timestamp', timestamp)\n",
    "print(f'{day}/{month}/{year}, {hour}:{minute}')  # 8/7/2021, 7:38"
   ]
  },
  {
   "cell_type": "markdown",
   "metadata": {},
   "source": [
    "2. Format the current date using this format: \"%m/%d/%Y, %H:%M:%S\")"
   ]
  },
  {
   "cell_type": "code",
   "execution_count": 26,
   "metadata": {},
   "outputs": [
    {
     "name": "stdout",
     "output_type": "stream",
     "text": [
      "time: 23:56:12\n",
      "time one: 01/26/2025, 23:56:12\n",
      "time two: 26/01/2025, 23:56:12\n"
     ]
    }
   ],
   "source": [
    "# current date and time\n",
    "now = datetime.now()\n",
    "t = now.strftime(\"%H:%M:%S\")\n",
    "print(\"time:\", t)\n",
    "time_one = now.strftime(\"%m/%d/%Y, %H:%M:%S\")\n",
    "# mm/dd/YY H:M:S format\n",
    "print(\"time one:\", time_one)\n",
    "time_two = now.strftime(\"%d/%m/%Y, %H:%M:%S\")\n",
    "# dd/mm/YY H:M:S format\n",
    "print(\"time two:\", time_two)"
   ]
  },
  {
   "cell_type": "markdown",
   "metadata": {},
   "source": [
    "3. Today is 5 December, 2019. Change this time string to time."
   ]
  },
  {
   "cell_type": "code",
   "execution_count": 27,
   "metadata": {},
   "outputs": [
    {
     "name": "stdout",
     "output_type": "stream",
     "text": [
      "date_string = 5 December, 2019\n",
      "date_object = 2019-12-05 00:00:00\n"
     ]
    }
   ],
   "source": [
    "\n",
    "date_string = \"5 December, 2019\"\n",
    "print(\"date_string =\", date_string)\n",
    "date_object = datetime.strptime(date_string, \"%d %B, %Y\")\n",
    "print(\"date_object =\", date_object)"
   ]
  },
  {
   "cell_type": "markdown",
   "metadata": {},
   "source": [
    "4. Calculate the time difference between now and new year. "
   ]
  },
  {
   "cell_type": "markdown",
   "metadata": {},
   "source": [
    "4. Calculate the time difference between now and new year."
   ]
  },
  {
   "cell_type": "code",
   "execution_count": 25,
   "metadata": {},
   "outputs": [
    {
     "name": "stdout",
     "output_type": "stream",
     "text": [
      "Time left for New Year: 339 days, 0:12:34.086073\n"
     ]
    }
   ],
   "source": [
    "\n",
    "\n",
    "# Get the current date and time\n",
    "current_time = datetime.now()\n",
    "\n",
    "# Set the date for the upcoming New Year (January 1, next year)\n",
    "next_year = current_time.year + 1\n",
    "new_year = datetime(year=next_year, month=1, day=1)\n",
    "\n",
    "# Calculate the time difference\n",
    "time_difference = new_year - current_time\n",
    "\n",
    "# Display the result\n",
    "print(f\"Time left for New Year: {time_difference}\")\n"
   ]
  },
  {
   "cell_type": "markdown",
   "metadata": {},
   "source": [
    "5. Calculate the time difference between 1 January 1970 and now."
   ]
  },
  {
   "cell_type": "code",
   "execution_count": 24,
   "metadata": {},
   "outputs": [
    {
     "name": "stdout",
     "output_type": "stream",
     "text": [
      "Time difference from 1 January 1970 to now: 20114 days, 23:44:47.144041\n",
      "Time left for new year: 27 days, 0:00:00\n",
      "Exact time left for new year: 26 days, 23:01:00\n"
     ]
    }
   ],
   "source": [
    "from datetime import date, datetime\n",
    "\n",
    "# Calculate the time difference between 1 January 1970 and now\n",
    "epoch_date = datetime(year=1970, month=1, day=1)\n",
    "current_time = datetime.now()\n",
    "time_difference = current_time - epoch_date\n",
    "print(f\"Time difference from 1 January 1970 to now: {time_difference}\")\n",
    "\n",
    "# Calculate the time left for the new year (example for December 5, 2019)\n",
    "today = date(year=2019, month=12, day=5)\n",
    "new_year = date(year=2020, month=1, day=1)\n",
    "time_left_for_newyear = new_year - today\n",
    "print(f\"Time left for new year: {time_left_for_newyear}\")\n",
    "\n",
    "# Calculate the exact time left for the new year including hours, minutes, and seconds\n",
    "t1 = datetime(year=2019, month=12, day=5, hour=0, minute=59, second=0)\n",
    "t2 = datetime(year=2020, month=1, day=1, hour=0, minute=0, second=0)\n",
    "diff = t2 - t1\n",
    "print(f\"Exact time left for new year: {diff}\")\n"
   ]
  },
  {
   "cell_type": "markdown",
   "metadata": {},
   "source": [
    "6. Think, what can you use the datetime module for?"
   ]
  },
  {
   "cell_type": "markdown",
   "metadata": {},
   "source": [
    " 1. Time Series Analysis\n",
    "Description: Analyze and visualize data over time, such as stock prices, weather changes, or user activity.\n",
    "2.  Time Calculations\n",
    "Description: Perform arithmetic operations on time and dates.\n",
    "example Estimate delivery times for packages.\n",
    "3.  Historical Data Analysis\n",
    "Description: Analyze data tied to specific dates or events.\n",
    "example Compare sales data from the same period last year.\n",
    "4.  Scheduling Applications\n",
    "Description: Automate reminders or events.\n",
    "Examples:\n",
    "Create an alarm clock or countdown timer."
   ]
  }
 ],
 "metadata": {
  "kernelspec": {
   "display_name": "Python 3",
   "language": "python",
   "name": "python3"
  },
  "language_info": {
   "codemirror_mode": {
    "name": "ipython",
    "version": 3
   },
   "file_extension": ".py",
   "mimetype": "text/x-python",
   "name": "python",
   "nbconvert_exporter": "python",
   "pygments_lexer": "ipython3",
   "version": "3.13.1"
  }
 },
 "nbformat": 4,
 "nbformat_minor": 2
}
